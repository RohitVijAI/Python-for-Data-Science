{
 "cells": [
  {
   "cell_type": "markdown",
   "id": "bc59d377",
   "metadata": {},
   "source": [
    "# Recursion \n",
    "\n",
    "A recursion function is a function that call itself, again and again."
   ]
  },
  {
   "cell_type": "code",
   "execution_count": null,
   "id": "420ab07a",
   "metadata": {},
   "outputs": [],
   "source": [
    "def my_func():\n",
    "    my_func()\n",
    "\n",
    "my_func()    "
   ]
  },
  {
   "cell_type": "code",
   "execution_count": 5,
   "id": "04203da7",
   "metadata": {},
   "outputs": [
    {
     "name": "stdout",
     "output_type": "stream",
     "text": [
      "the factorial num is:-  24\n"
     ]
    }
   ],
   "source": [
    "def factorial(no):\n",
    "    if no == 0:\n",
    "        return 1\n",
    "    else:\n",
    "        return no * factorial(no - 1)\n",
    "print(\"the factorial num is:- \",factorial(4))    \n"
   ]
  },
  {
   "cell_type": "code",
   "execution_count": 10,
   "id": "e5dd5299",
   "metadata": {},
   "outputs": [
    {
     "name": "stdout",
     "output_type": "stream",
     "text": [
      "5\n",
      "the factorial num is:-  120\n"
     ]
    }
   ],
   "source": [
    "x = int(input())\n",
    "def factorial(no):\n",
    "    if no == 0:\n",
    "        return 1\n",
    "    else:\n",
    "        return no * factorial(no - 1)\n",
    "print(\"the factorial num is:- \",factorial(x))   \n"
   ]
  },
  {
   "cell_type": "code",
   "execution_count": null,
   "id": "69b99d5c",
   "metadata": {},
   "outputs": [],
   "source": []
  },
  {
   "cell_type": "code",
   "execution_count": 19,
   "id": "6c8643db",
   "metadata": {},
   "outputs": [
    {
     "name": "stdout",
     "output_type": "stream",
     "text": [
      "4\n",
      "24\n"
     ]
    }
   ],
   "source": [
    "x = int(input())\n",
    "def one(num):\n",
    "    if num == 0 :\n",
    "        return 1\n",
    "    else:\n",
    "        return num*one(num - 1)\n",
    "print(one(x))\n",
    "   "
   ]
  },
  {
   "cell_type": "markdown",
   "id": "13b7e947",
   "metadata": {},
   "source": [
    "# Lambda function(anonymous)"
   ]
  },
  {
   "cell_type": "markdown",
   "id": "e679fe62",
   "metadata": {},
   "source": [
    "- Used for instant and one-time use.\n",
    " - Written in just one line."
   ]
  },
  {
   "cell_type": "code",
   "execution_count": 9,
   "id": "52d25568",
   "metadata": {},
   "outputs": [
    {
     "name": "stdout",
     "output_type": "stream",
     "text": [
      "hello world\n"
     ]
    }
   ],
   "source": [
    "# lambda : expression\n",
    "(lambda:print(\"hello world\"))()     #PRINT ALWAS GIVE NONE NONE ISE"
   ]
  },
  {
   "cell_type": "code",
   "execution_count": 13,
   "id": "c76f9799",
   "metadata": {},
   "outputs": [
    {
     "name": "stdout",
     "output_type": "stream",
     "text": [
      "15\n"
     ]
    }
   ],
   "source": [
    "(lambda x,y:print(x+y))(10,5)"
   ]
  },
  {
   "cell_type": "code",
   "execution_count": 17,
   "id": "35aaecd8",
   "metadata": {},
   "outputs": [
    {
     "ename": "TypeError",
     "evalue": "<lambda>() takes 0 positional arguments but 1 was given",
     "output_type": "error",
     "traceback": [
      "\u001b[1;31m---------------------------------------------------------------------------\u001b[0m",
      "\u001b[1;31mTypeError\u001b[0m                                 Traceback (most recent call last)",
      "Cell \u001b[1;32mIn[17], line 1\u001b[0m\n\u001b[1;32m----> 1\u001b[0m \u001b[43m(\u001b[49m\u001b[38;5;28;43;01mlambda\u001b[39;49;00m\u001b[43m \u001b[49m\u001b[43m:\u001b[49m\u001b[43m \u001b[49m\u001b[38;5;28;43mprint\u001b[39;49m\u001b[43m(\u001b[49m\u001b[43mr\u001b[49m\u001b[43m)\u001b[49m\u001b[43m)\u001b[49m\u001b[43m(\u001b[49m\u001b[38;5;241;43m23\u001b[39;49m\u001b[43m)\u001b[49m\n",
      "\u001b[1;31mTypeError\u001b[0m: <lambda>() takes 0 positional arguments but 1 was given"
     ]
    }
   ],
   "source": [
    "(lambda : print(r))(23)"
   ]
  },
  {
   "cell_type": "code",
   "execution_count": 3,
   "id": "98402d39",
   "metadata": {},
   "outputs": [
    {
     "name": "stdout",
     "output_type": "stream",
     "text": [
      "10\n"
     ]
    }
   ],
   "source": [
    "(lambda r: print(r))(2*10-10 )"
   ]
  },
  {
   "cell_type": "code",
   "execution_count": 5,
   "id": "8aa5b3ab",
   "metadata": {},
   "outputs": [
    {
     "ename": "TypeError",
     "evalue": "<lambda>() missing 1 required positional argument: 'r'",
     "output_type": "error",
     "traceback": [
      "\u001b[1;31m---------------------------------------------------------------------------\u001b[0m",
      "\u001b[1;31mTypeError\u001b[0m                                 Traceback (most recent call last)",
      "Cell \u001b[1;32mIn[5], line 1\u001b[0m\n\u001b[1;32m----> 1\u001b[0m \u001b[43m(\u001b[49m\u001b[38;5;28;43;01mlambda\u001b[39;49;00m\u001b[43m \u001b[49m\u001b[43mr\u001b[49m\u001b[43m:\u001b[49m\u001b[43m \u001b[49m\u001b[38;5;28;43mprint\u001b[39;49m\u001b[43m(\u001b[49m\u001b[43mr\u001b[49m\u001b[43m)\u001b[49m\u001b[43m)\u001b[49m\u001b[43m(\u001b[49m\u001b[43m \u001b[49m\u001b[43m)\u001b[49m\n",
      "\u001b[1;31mTypeError\u001b[0m: <lambda>() missing 1 required positional argument: 'r'"
     ]
    }
   ],
   "source": [
    "(lambda r: print(r))( )"
   ]
  },
  {
   "cell_type": "code",
   "execution_count": 14,
   "id": "0bb46ecd",
   "metadata": {},
   "outputs": [
    {
     "ename": "SyntaxError",
     "evalue": "cannot assign to lambda (2623642099.py, line 3)",
     "output_type": "error",
     "traceback": [
      "\u001b[1;36m  Cell \u001b[1;32mIn[14], line 3\u001b[1;36m\u001b[0m\n\u001b[1;33m    lambda : sum = 9\u001b[0m\n\u001b[1;37m    ^\u001b[0m\n\u001b[1;31mSyntaxError\u001b[0m\u001b[1;31m:\u001b[0m cannot assign to lambda\n"
     ]
    }
   ],
   "source": [
    "# lambda parameters : experation\n",
    "sum = 12\n",
    "lambda : sum = 9"
   ]
  },
  {
   "cell_type": "code",
   "execution_count": 16,
   "id": "1fab7c0e",
   "metadata": {},
   "outputs": [
    {
     "data": {
      "text/plain": [
       "[2, 4, 6]"
      ]
     },
     "execution_count": 16,
     "metadata": {},
     "output_type": "execute_result"
    }
   ],
   "source": [
    "# filter (function , iterable)\n",
    "\n",
    "list(filter(lambda x: x%2==0 ,(1,2,3,4,5,6)))"
   ]
  },
  {
   "cell_type": "code",
   "execution_count": 17,
   "id": "9ebf9a73",
   "metadata": {},
   "outputs": [
    {
     "data": {
      "text/plain": [
       "[1, 2, 3, 4, 5, 6]"
      ]
     },
     "execution_count": 17,
     "metadata": {},
     "output_type": "execute_result"
    }
   ],
   "source": [
    "list(filter(lambda x: True,(1,2,3,4,5,6)))"
   ]
  },
  {
   "cell_type": "code",
   "execution_count": 19,
   "id": "1709282a",
   "metadata": {},
   "outputs": [
    {
     "data": {
      "text/plain": [
       "[]"
      ]
     },
     "execution_count": 19,
     "metadata": {},
     "output_type": "execute_result"
    }
   ],
   "source": [
    "list(filter(lambda x: False ,(1,2,3,4,5,6)))"
   ]
  },
  {
   "cell_type": "code",
   "execution_count": 4,
   "id": "144b1c3a",
   "metadata": {},
   "outputs": [
    {
     "data": {
      "text/plain": [
       "[1, 2, 3, 4, 5, 6]"
      ]
     },
     "execution_count": 4,
     "metadata": {},
     "output_type": "execute_result"
    }
   ],
   "source": [
    "list(filter(lambda x: \"string\" ,(1,2,3,4,5,6)))"
   ]
  },
  {
   "cell_type": "code",
   "execution_count": 22,
   "id": "c1ef96d1",
   "metadata": {},
   "outputs": [
    {
     "data": {
      "text/plain": [
       "[]"
      ]
     },
     "execution_count": 22,
     "metadata": {},
     "output_type": "execute_result"
    }
   ],
   "source": [
    "list(filter(lambda x: None ,(1,2,3,4,5,6)))"
   ]
  },
  {
   "cell_type": "code",
   "execution_count": 23,
   "id": "d27d6fd9",
   "metadata": {},
   "outputs": [
    {
     "data": {
      "text/plain": [
       "set()"
      ]
     },
     "execution_count": 23,
     "metadata": {},
     "output_type": "execute_result"
    }
   ],
   "source": [
    "set(filter(lambda x: False ,(1,2,3,4,5,6)))"
   ]
  },
  {
   "cell_type": "code",
   "execution_count": 18,
   "id": "fb70e720",
   "metadata": {},
   "outputs": [
    {
     "name": "stdout",
     "output_type": "stream",
     "text": [
      "False\n",
      "False\n",
      "False\n"
     ]
    },
    {
     "data": {
      "text/plain": [
       "[]"
      ]
     },
     "execution_count": 18,
     "metadata": {},
     "output_type": "execute_result"
    }
   ],
   "source": [
    "list (filter(lambda x:print(False),(1,2,3)))"
   ]
  },
  {
   "cell_type": "code",
   "execution_count": 35,
   "id": "d51ea98d",
   "metadata": {},
   "outputs": [
    {
     "data": {
      "text/plain": [
       "{1, 2, 3, 4, 5, 6}"
      ]
     },
     "execution_count": 35,
     "metadata": {},
     "output_type": "execute_result"
    }
   ],
   "source": [
    "set(filter(lambda x: bool,(1,2,3,4,5,6)))"
   ]
  },
  {
   "cell_type": "code",
   "execution_count": 42,
   "id": "e946798b",
   "metadata": {},
   "outputs": [
    {
     "ename": "TypeError",
     "evalue": "cannot convert dictionary update sequence element #0 to a sequence",
     "output_type": "error",
     "traceback": [
      "\u001b[1;31m---------------------------------------------------------------------------\u001b[0m",
      "\u001b[1;31mTypeError\u001b[0m                                 Traceback (most recent call last)",
      "Cell \u001b[1;32mIn[42], line 1\u001b[0m\n\u001b[1;32m----> 1\u001b[0m \u001b[38;5;28;43mdict\u001b[39;49m\u001b[43m(\u001b[49m\u001b[38;5;28;43mfilter\u001b[39;49m\u001b[43m(\u001b[49m\u001b[38;5;28;43;01mlambda\u001b[39;49;00m\u001b[43m \u001b[49m\u001b[43mx\u001b[49m\u001b[43m:\u001b[49m\u001b[43m \u001b[49m\u001b[38;5;124;43m\"\u001b[39;49m\u001b[38;5;124;43mw\u001b[39;49m\u001b[38;5;124;43m\"\u001b[39;49m\u001b[43m \u001b[49m\u001b[43m,\u001b[49m\u001b[43m(\u001b[49m\u001b[38;5;241;43m1\u001b[39;49m\u001b[43m,\u001b[49m\u001b[38;5;241;43m2\u001b[39;49m\u001b[43m,\u001b[49m\u001b[38;5;241;43m3\u001b[39;49m\u001b[43m,\u001b[49m\u001b[38;5;241;43m4\u001b[39;49m\u001b[43m,\u001b[49m\u001b[38;5;241;43m5\u001b[39;49m\u001b[43m,\u001b[49m\u001b[38;5;241;43m6\u001b[39;49m\u001b[43m)\u001b[49m\u001b[43m)\u001b[49m\u001b[43m)\u001b[49m\n",
      "\u001b[1;31mTypeError\u001b[0m: cannot convert dictionary update sequence element #0 to a sequence"
     ]
    }
   ],
   "source": [
    "dict(filter(lambda x: \"w\" ,(1,2,3,4,5,6)))"
   ]
  },
  {
   "cell_type": "code",
   "execution_count": 60,
   "id": "9f611343",
   "metadata": {},
   "outputs": [
    {
     "data": {
      "text/plain": [
       "[1, 2, 3, 2, 1]"
      ]
     },
     "execution_count": 60,
     "metadata": {},
     "output_type": "execute_result"
    }
   ],
   "source": [
    "list(filter(lambda x: 43 ,(1,2,3,4,5,6)))[0:3]+[2,1]"
   ]
  },
  {
   "cell_type": "code",
   "execution_count": 68,
   "id": "86e8dd8d",
   "metadata": {},
   "outputs": [
    {
     "data": {
      "text/plain": [
       "[1, 2, 4, 5, 6]"
      ]
     },
     "execution_count": 68,
     "metadata": {},
     "output_type": "execute_result"
    }
   ],
   "source": [
    "list(filter(lambda x: x!=3,(1,2,3,4,5,6)))"
   ]
  },
  {
   "cell_type": "code",
   "execution_count": 71,
   "id": "b55189fb",
   "metadata": {},
   "outputs": [
    {
     "data": {
      "text/plain": [
       "[1, 2, 3]"
      ]
     },
     "execution_count": 71,
     "metadata": {},
     "output_type": "execute_result"
    }
   ],
   "source": [
    "list(filter(lambda x: x<=3 ,(1,2,3,4,5,6)))"
   ]
  },
  {
   "cell_type": "code",
   "execution_count": 9,
   "id": "531c144b",
   "metadata": {},
   "outputs": [
    {
     "data": {
      "text/plain": [
       "[2, 4, 6]"
      ]
     },
     "execution_count": 9,
     "metadata": {},
     "output_type": "execute_result"
    }
   ],
   "source": [
    "list(filter(lambda x: x%2==0 ,(1,2,3,4,5,6)))"
   ]
  },
  {
   "cell_type": "code",
   "execution_count": 12,
   "id": "6c7d9e0b",
   "metadata": {},
   "outputs": [
    {
     "data": {
      "text/plain": [
       "(<function __main__.<lambda>(x)>, (2, 3, 4, 5))"
      ]
     },
     "execution_count": 12,
     "metadata": {},
     "output_type": "execute_result"
    }
   ],
   "source": [
    "lambda x : x**2 , (2,3,4,5)"
   ]
  },
  {
   "cell_type": "code",
   "execution_count": 75,
   "id": "fca6021b",
   "metadata": {},
   "outputs": [
    {
     "name": "stdout",
     "output_type": "stream",
     "text": [
      "Result is this :  [4, 5, 6, 7, 8]\n"
     ]
    }
   ],
   "source": [
    "# Map (function, interable)\n",
    "# Takes a function as a first arguement and applies it to eacjh of the element of the iterable.\n",
    "\n",
    "\n",
    "list1 = [2,3,4,5,6]\n",
    "list2 = list(map(lambda x : x+2 , list1))\n",
    "print(\"Result is this : \", list2)"
   ]
  },
  {
   "cell_type": "code",
   "execution_count": 76,
   "id": "bdd7f943",
   "metadata": {},
   "outputs": [
    {
     "name": "stdout",
     "output_type": "stream",
     "text": [
      "Result is this :  ['rohit', 'rohit', 'rohit', 'rohit', 'rohit']\n"
     ]
    }
   ],
   "source": [
    "list1 = [2,3,4,5,6]\n",
    "list2 = list(map(lambda x :\"rohit\", list1))\n",
    "print(\"Result is this : \", list2)"
   ]
  },
  {
   "cell_type": "code",
   "execution_count": 80,
   "id": "4ff1dab9",
   "metadata": {},
   "outputs": [
    {
     "name": "stdout",
     "output_type": "stream",
     "text": [
      "Result is this :  [5, 5, 5, 5, 5]\n"
     ]
    }
   ],
   "source": [
    "list1 = [2,3,4,5,6]\n",
    "list2 = list(map(lambda x : list1[3], list1))\n",
    "print(\"Result is this : \", list2)"
   ]
  },
  {
   "cell_type": "code",
   "execution_count": 19,
   "id": "619f9c0c",
   "metadata": {},
   "outputs": [
    {
     "name": "stdout",
     "output_type": "stream",
     "text": [
      "Result is this :  [[2, 3, 4, 5, 6], [2, 3, 4, 5, 6], [2, 3, 4, 5, 6], [2, 3, 4, 5, 6], [2, 3, 4, 5, 6]]\n"
     ]
    }
   ],
   "source": [
    "list1 = [2,3,4,5,6]\n",
    "list2 = list(map(lambda x : list1[ : ], list1))\n",
    "print(\"Result is this : \", list2)"
   ]
  },
  {
   "cell_type": "code",
   "execution_count": 97,
   "id": "ce352d66",
   "metadata": {},
   "outputs": [
    {
     "name": "stdout",
     "output_type": "stream",
     "text": [
      "Result is this :  36\n"
     ]
    }
   ],
   "source": [
    "list1 = [2,3,4,5,6]\n",
    "list2 = list(map(lambda x : x**2 , list1))[4]\n",
    "print(\"Result is this : \", list2)"
   ]
  },
  {
   "cell_type": "code",
   "execution_count": 2,
   "id": "1a931be6",
   "metadata": {},
   "outputs": [
    {
     "ename": "SyntaxError",
     "evalue": "invalid syntax (2956451709.py, line 1)",
     "output_type": "error",
     "traceback": [
      "\u001b[1;36m  Cell \u001b[1;32mIn[2], line 1\u001b[1;36m\u001b[0m\n\u001b[1;33m    lambda x : \"str\",if y in range(x),print(y)\u001b[0m\n\u001b[1;37m                     ^\u001b[0m\n\u001b[1;31mSyntaxError\u001b[0m\u001b[1;31m:\u001b[0m invalid syntax\n"
     ]
    }
   ],
   "source": [
    "lambda x : \"str\",if y in range(x),print(y)"
   ]
  },
  {
   "cell_type": "code",
   "execution_count": 110,
   "id": "4ab12c8b",
   "metadata": {},
   "outputs": [
    {
     "name": "stdout",
     "output_type": "stream",
     "text": [
      "<function <lambda> at 0x000002B64B5EA4D0>\n"
     ]
    }
   ],
   "source": [
    "list1 = lambda x: \"str\" if (x==list1) else list1\n",
    "print(list1"
   ]
  },
  {
   "cell_type": "code",
   "execution_count": 20,
   "id": "b8050d56",
   "metadata": {},
   "outputs": [
    {
     "name": "stdout",
     "output_type": "stream",
     "text": [
      "3\n"
     ]
    }
   ],
   "source": [
    "u = (lambda x , y : x if (x==y)  else y )(2,3)\n",
    "print(u)"
   ]
  },
  {
   "cell_type": "code",
   "execution_count": 31,
   "id": "61228e6f",
   "metadata": {},
   "outputs": [
    {
     "name": "stdout",
     "output_type": "stream",
     "text": [
      "[2, 3, 4, 5, 6, 7]\n"
     ]
    }
   ],
   "source": [
    "u = (lambda x,y :y if (y*2)  else x*2 )(x=[2,3,4,5,6],y = [2,3,4,5,6,7])\n",
    "print(u)"
   ]
  },
  {
   "cell_type": "code",
   "execution_count": 9,
   "id": "f5458516",
   "metadata": {},
   "outputs": [
    {
     "data": {
      "text/plain": [
       "[2, 4, 6]"
      ]
     },
     "execution_count": 9,
     "metadata": {},
     "output_type": "execute_result"
    }
   ],
   "source": [
    "list(filter(lambda x : x%2==0 ,(1,2,3,4,5,6)))"
   ]
  },
  {
   "cell_type": "code",
   "execution_count": 33,
   "id": "d20945be",
   "metadata": {},
   "outputs": [
    {
     "name": "stdout",
     "output_type": "stream",
     "text": [
      "[2, 4, 6, 8, 10]\n"
     ]
    }
   ],
   "source": [
    "u = list(filter(lambda x : x if x==0 else x%2==0,(1,2,3,4,5,6,7,8,9,10)))\n",
    "print(u)"
   ]
  },
  {
   "cell_type": "code",
   "execution_count": 51,
   "id": "1d45a808",
   "metadata": {},
   "outputs": [
    {
     "name": "stdout",
     "output_type": "stream",
     "text": [
      "(3, 6, 9, 12, 15, 18)\n"
     ]
    }
   ],
   "source": [
    "u = tuple(filter(lambda x : x if x==0 else x%3==0,(range(1,21))))\n",
    "print(u)"
   ]
  },
  {
   "cell_type": "code",
   "execution_count": 37,
   "id": "1b7faa78",
   "metadata": {},
   "outputs": [
    {
     "name": "stdout",
     "output_type": "stream",
     "text": [
      "[2, 4, 6, 8, 10]\n"
     ]
    }
   ],
   "source": [
    "u = list(filter(lambda x : x if x==0 else x%2==0, (range(1,11))))\n",
    "print(u)"
   ]
  },
  {
   "cell_type": "code",
   "execution_count": 17,
   "id": "e69a09ad",
   "metadata": {},
   "outputs": [
    {
     "name": "stdout",
     "output_type": "stream",
     "text": [
      "[4, 5, 7, 8, 10, 11, 13]\n"
     ]
    }
   ],
   "source": [
    "M = list(filter(lambda x : x if x==3 else x%3,(range(4,14))))\n",
    "print(M)"
   ]
  },
  {
   "cell_type": "code",
   "execution_count": 35,
   "id": "053144ab",
   "metadata": {},
   "outputs": [
    {
     "name": "stdout",
     "output_type": "stream",
     "text": [
      "[4, 9, 16, 25, 36]\n"
     ]
    }
   ],
   "source": [
    "num = [2,3,4,5,6]\n",
    "y = list(map(lambda x:x*x,x))\n",
    "print(y)"
   ]
  },
  {
   "cell_type": "code",
   "execution_count": null,
   "id": "2abc5ba4",
   "metadata": {},
   "outputs": [],
   "source": []
  },
  {
   "cell_type": "code",
   "execution_count": null,
   "id": "6d01c5cc",
   "metadata": {},
   "outputs": [],
   "source": []
  }
 ],
 "metadata": {
  "kernelspec": {
   "display_name": "Python 3 (ipykernel)",
   "language": "python",
   "name": "python3"
  },
  "language_info": {
   "codemirror_mode": {
    "name": "ipython",
    "version": 3
   },
   "file_extension": ".py",
   "mimetype": "text/x-python",
   "name": "python",
   "nbconvert_exporter": "python",
   "pygments_lexer": "ipython3",
   "version": "3.10.9"
  }
 },
 "nbformat": 4,
 "nbformat_minor": 5
}
