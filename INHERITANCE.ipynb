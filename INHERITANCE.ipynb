{
 "cells": [
  {
   "cell_type": "markdown",
   "id": "27bbe746",
   "metadata": {},
   "source": [
    "# Inheritance \n",
    "Process of inheriting the properties of the parent class into a child is called inheritance.\n",
    "\n",
    "the child class acquires all the attributea and method from the parent calss.Also ,a child class can provide its apecific implementation to the methods of the parent class.\n",
    "\n",
    "WE also call parent call to ***super calss and base class*** and we can say child class to ***sub class and derived class***"
   ]
  },
  {
   "cell_type": "code",
   "execution_count": null,
   "id": "d7615947",
   "metadata": {},
   "outputs": [],
   "source": [
    "# bundling of attributes  and methods are call encapsulation.bundle or capsule is call an class. "
   ]
  },
  {
   "cell_type": "markdown",
   "id": "3d74154a",
   "metadata": {},
   "source": [
    "# Types of inheritance\n",
    "\n",
    "- single inheritance\n",
    "- Mulitiple Inheritance\n",
    "- Multilevel inheritance\n",
    "- Hierarchical inheritance\n",
    "- hybrid inheritance"
   ]
  },
  {
   "cell_type": "code",
   "execution_count": null,
   "id": "022d2cd4",
   "metadata": {},
   "outputs": [],
   "source": [
    "# Single inheritance\n",
    "class ParentClass:\n",
    "    pass\n",
    "class ChildClass(ParentClass):\n",
    "    pass"
   ]
  },
  {
   "cell_type": "code",
   "execution_count": 31,
   "id": "52910861",
   "metadata": {},
   "outputs": [
    {
     "data": {
      "text/plain": [
       "'Brand: Toyota, Model: Camry, Fuel Type: Gasoline'"
      ]
     },
     "execution_count": 31,
     "metadata": {},
     "output_type": "execute_result"
    }
   ],
   "source": [
    "# Parent class\n",
    "class Vehicle():\n",
    "    def __init__(self, brand, model):\n",
    "        self.brand = brand\n",
    "        self.model = model\n",
    "\n",
    "    def display_info(self):\n",
    "        return f\"Brand: {self.brand}, Model: {self.model}\"\n",
    "\n",
    "class Car(Vehicle):\n",
    "    def __init__(self, brand, model, fuel_type):\n",
    "        super().__init__(brand, model)\n",
    "        self.fuel_type = fuel_type\n",
    "\n",
    "    def display_info(self):\n",
    "        return f\"Brand: {self.brand}, Model: {self.model}, Fuel Type: {self.fuel_type}\"\n",
    "\n",
    "car = Car(\"Toyota\", \"Camry\", \"Gasoline\")\n",
    "car.display_info()"
   ]
  },
  {
   "cell_type": "code",
   "execution_count": 22,
   "id": "661abd3c",
   "metadata": {},
   "outputs": [
    {
     "name": "stdout",
     "output_type": "stream",
     "text": [
      "Method A from ClassA\n",
      "Method B from ClassB\n",
      "Method C from ChildClass\n"
     ]
    }
   ],
   "source": [
    "# multilple inheritance\n",
    "# Parent class A\n",
    "class ClassA:\n",
    "    def method_A(self):\n",
    "        return \"Method A from ClassA\"\n",
    "\n",
    "# Parent class B\n",
    "class ClassB:\n",
    "    def method_B(self):\n",
    "        return \"Method B from ClassB\"\n",
    "\n",
    "# Child class inheriting from both ClassA and ClassB\n",
    "class ChildClass(ClassA, ClassB):\n",
    "    def method_C(self):\n",
    "        return \"Method C from ChildClass\"\n",
    "\n",
    "\n",
    "child_obj = ChildClass()        # child class has the excess of all the classes\n",
    "print(child_obj.method_A())\n",
    "print(child_obj.method_B())\n",
    "print(child_obj.method_C())\n",
    "\n",
    "\n"
   ]
  },
  {
   "cell_type": "code",
   "execution_count": 5,
   "id": "8582b6b8",
   "metadata": {},
   "outputs": [
    {
     "name": "stdout",
     "output_type": "stream",
     "text": [
      "constructor bird\n",
      "parrot bird\n",
      "another 12\n"
     ]
    }
   ],
   "source": [
    "# multilevel inheritance. parant class and his sub classes.\n",
    "\n",
    "class Birds:\n",
    "    def __init__(self,name,age):\n",
    "        self.name = name\n",
    "        self.age = age\n",
    "        print(\"constructor\",self.name)\n",
    "class parrot(Birds):\n",
    "    def par(self):\n",
    "        print(\"parrot\",self.name)\n",
    "            \n",
    "class another(parrot):\n",
    "    def ano(self):\n",
    "        print(\"another\",self.age)\n",
    "        \n",
    "a = another(\"bird\",12)\n",
    "a.par()\n",
    "a.ano()"
   ]
  },
  {
   "cell_type": "code",
   "execution_count": 33,
   "id": "ad711e52",
   "metadata": {
    "scrolled": true
   },
   "outputs": [
    {
     "name": "stdout",
     "output_type": "stream",
     "text": [
      "BMW\n",
      "Inside Vehicle class\n",
      "Inside Car class\n",
      "Inside bike class\n"
     ]
    }
   ],
   "source": [
    "class vehicle:\n",
    "    def __init__(self):\n",
    "        self.brand = \"BMW\"\n",
    "        print(self.brand)\n",
    "    def vehicle_info(self):\n",
    "        print(\"Inside Vehicle class\")\n",
    "        \n",
    "class Car(vehicle):\n",
    "    def car_info(self):\n",
    "        print(\"Inside Car class\")\n",
    "        \n",
    "class bike(Car):\n",
    "    def bike_info(self):\n",
    "        print(\"Inside bike class\")\n",
    "        \n",
    "c1 = bike()        \n",
    "\n",
    "c1.vehicle_info()\n",
    "c1.car_info()\n",
    "c1.bike_info()"
   ]
  },
  {
   "cell_type": "code",
   "execution_count": 36,
   "id": "2154efe5",
   "metadata": {},
   "outputs": [
    {
     "name": "stdout",
     "output_type": "stream",
     "text": [
      "BMw\n",
      "Inside vehicle class\n",
      "BMw\n",
      "Inside vehicle class\n"
     ]
    }
   ],
   "source": [
    "# Hierarchical inheritance\n",
    "class vehicle:\n",
    "    \n",
    "    def __init__(self):\n",
    "        self.brand = \"BMw\"\n",
    "        print(self.brand)\n",
    "        \n",
    "    def vehicle_info(self):\n",
    "        print(\"Inside vehicle class\")\n",
    "    \n",
    "class car(vehicle):\n",
    "    def car_info(self):\n",
    "        print(\"Inside car class\")\n",
    "        \n",
    "class bike(vehicle):\n",
    "    def bike_info(self):\n",
    "        print(\"Inside bike class\")\n",
    "\n",
    "c1 = bike()\n",
    "c1.vehicle_info()\n",
    "\n",
    "c2 = car()\n",
    "c2.vehicle_info()"
   ]
  },
  {
   "cell_type": "code",
   "execution_count": 2,
   "id": "19729b43",
   "metadata": {},
   "outputs": [
    {
     "name": "stdout",
     "output_type": "stream",
     "text": [
      "BMW\n",
      "Inside vehicle class\n"
     ]
    }
   ],
   "source": [
    "class vehicle:\n",
    "    \n",
    "    def __init__(self):\n",
    "        self.brand = \"BMW\"\n",
    "        print(self.brand)\n",
    "        \n",
    "    def vehicle_info(self):\n",
    "        print(\"Inside vehicle class\")\n",
    "    \n",
    "class car(vehicle):\n",
    "    def car_info(self):\n",
    "        print(\"Inside car class\")\n",
    "        \n",
    "class bike(vehicle):\n",
    "    def bike_info(self):\n",
    "        print(\"Inside bike class\")\n",
    "\n",
    "#c1 = bike()\n",
    "#c1.vehicle_info()\n",
    "\n",
    "#c2 = car()\n",
    "#c2.vehicle_info()\n",
    "\n",
    "c = vehicle()\n",
    "c.vehicle_info()"
   ]
  },
  {
   "cell_type": "code",
   "execution_count": 38,
   "id": "a07eca00",
   "metadata": {},
   "outputs": [
    {
     "name": "stdout",
     "output_type": "stream",
     "text": [
      "Inside vehicle class\n",
      "Inside bike class\n",
      "Inside van class\n"
     ]
    }
   ],
   "source": [
    "# Hybird inheritance\n",
    "# parant class\n",
    "class vehicle:\n",
    "    \n",
    "    def vehicle_info(self):\n",
    "        print(\"Inside vehicle class\")            \n",
    "    \n",
    "class car(vehicle):\n",
    "    def car_info(self):                             # Hierarical inheritance as well as Multilevel inheritance\n",
    "        print(\"Inside car class\")\n",
    "        \n",
    "class bike(vehicle):\n",
    "    def bike_info(self):\n",
    "        print(\"Inside bike class\")                      # Hierarical inheritance\n",
    "        \n",
    "class schoote(vehicle):\n",
    "    def schoote_info(self):\n",
    "        print(\"Inside schoote class\")\n",
    "\n",
    "class truck(car):\n",
    "    def truck_info(self):\n",
    "        print(\"Inside truck class\")\n",
    "        \n",
    "class van(truck):\n",
    "    def van_info(self):\n",
    "        print(\"Inside van class\")\n",
    "        \n",
    "c1 = car()\n",
    "c1.vehicle_info()\n",
    "\n",
    "c2 = bike()\n",
    "c2.bike_info()\n",
    "\n",
    "c3 = van()\n",
    "c3.van_info()"
   ]
  },
  {
   "cell_type": "markdown",
   "id": "1cc10db8",
   "metadata": {},
   "source": [
    "# super()\n",
    "\n",
    "The super()function is used to refer to the parent class."
   ]
  },
  {
   "cell_type": "code",
   "execution_count": 3,
   "id": "7f9dfb0e",
   "metadata": {},
   "outputs": [
    {
     "name": "stdout",
     "output_type": "stream",
     "text": [
      "This is Tech Dept\n",
      "This is a Programmer\n"
     ]
    }
   ],
   "source": [
    "class Tec_Dept:\n",
    "    def descrip(self):\n",
    "        print(\"This is Tec Dept\")\n",
    "        \n",
    "class Programmer(Tec_Dept):\n",
    "    def descrip(self):\n",
    "        print(\"This is Tech Dept\")\n",
    "        print(\"This is a Programmer\")\n",
    "        \n",
    "tech1 = Programmer ()\n",
    "tech1.descrip()"
   ]
  },
  {
   "cell_type": "code",
   "execution_count": 2,
   "id": "b1c31902",
   "metadata": {},
   "outputs": [
    {
     "name": "stdout",
     "output_type": "stream",
     "text": [
      "This is Tech Dept\n",
      "This is a Programmer\n"
     ]
    }
   ],
   "source": [
    "class Tech_Dept:\n",
    "    def descrip(self):\n",
    "        print(\"This is Tech Dept\")\n",
    "        \n",
    "class Programmer(Tech_Dept):\n",
    "    def descrip(self):\n",
    "        super().descrip()      # try to write here self.descrip()\n",
    "        print(\"This is a Programmer\")\n",
    "        \n",
    "tech1 = Programmer ()\n",
    "tech1.descrip()"
   ]
  },
  {
   "cell_type": "code",
   "execution_count": 6,
   "id": "f71946f3",
   "metadata": {},
   "outputs": [
    {
     "ename": "AttributeError",
     "evalue": "'super' object has no attribute 'self'",
     "output_type": "error",
     "traceback": [
      "\u001b[1;31m---------------------------------------------------------------------------\u001b[0m",
      "\u001b[1;31mAttributeError\u001b[0m                            Traceback (most recent call last)",
      "Cell \u001b[1;32mIn[6], line 11\u001b[0m\n\u001b[0;32m      8\u001b[0m         \u001b[38;5;28mprint\u001b[39m(\u001b[38;5;124m\"\u001b[39m\u001b[38;5;124mThis is a Programmer\u001b[39m\u001b[38;5;124m\"\u001b[39m)\n\u001b[0;32m     10\u001b[0m tech1 \u001b[38;5;241m=\u001b[39m Programmer ()\n\u001b[1;32m---> 11\u001b[0m \u001b[43mtech1\u001b[49m\u001b[38;5;241;43m.\u001b[39;49m\u001b[43mdescrip\u001b[49m\u001b[43m(\u001b[49m\u001b[43m)\u001b[49m\n",
      "Cell \u001b[1;32mIn[6], line 7\u001b[0m, in \u001b[0;36mProgrammer.descrip\u001b[1;34m(self)\u001b[0m\n\u001b[0;32m      6\u001b[0m \u001b[38;5;28;01mdef\u001b[39;00m \u001b[38;5;21mdescrip\u001b[39m(\u001b[38;5;28mself\u001b[39m):\n\u001b[1;32m----> 7\u001b[0m     \u001b[38;5;28;43msuper\u001b[39;49m\u001b[43m(\u001b[49m\u001b[43m)\u001b[49m\u001b[38;5;241;43m.\u001b[39;49m\u001b[43mself\u001b[49m\u001b[38;5;241m.\u001b[39mdescrip()       \u001b[38;5;66;03m# The kernel appears to have died. It will restart automatically.\u001b[39;00m\n\u001b[0;32m      8\u001b[0m     \u001b[38;5;28mprint\u001b[39m(\u001b[38;5;124m\"\u001b[39m\u001b[38;5;124mThis is a Programmer\u001b[39m\u001b[38;5;124m\"\u001b[39m)\n",
      "\u001b[1;31mAttributeError\u001b[0m: 'super' object has no attribute 'self'"
     ]
    }
   ],
   "source": [
    "class Tech_Dept:\n",
    "    def descrip(self):\n",
    "        print(\"This is Tech Dept\")\n",
    "        \n",
    "class Programmer(Tech_Dept):\n",
    "    def descrip(self):\n",
    "     self.descrip()       # The kernel appears to have died. It will restart automatically.\n",
    "        print(\"This is a Programmer\")\n",
    "        \n",
    "tech1 = Programmer ()\n",
    "tech1.descrip()"
   ]
  },
  {
   "cell_type": "markdown",
   "id": "0fc2d722",
   "metadata": {},
   "source": [
    "# Method Overriding\n",
    "\n",
    "Method overriding is a powerful feature that allows you top redefine a method of the parent class in the class.\n",
    "\n",
    "When a child calss' method has the same name , same parameter , and same return type as a method in its parent class, then the method in the class is said to overriding the method inthe parent class."
   ]
  },
  {
   "cell_type": "code",
   "execution_count": 3,
   "id": "bb2df273",
   "metadata": {},
   "outputs": [],
   "source": [
    "class Animal:\n",
    "    def show_name(self):\n",
    "        print(\"This is Animal class\")\n",
    "        \n",
    "class Dog(Animal):\n",
    "    def show_name(self):\n",
    "        print(\"This is dog class\") \n",
    "        \n",
    "        "
   ]
  },
  {
   "cell_type": "code",
   "execution_count": 4,
   "id": "93b38cc7",
   "metadata": {},
   "outputs": [
    {
     "name": "stdout",
     "output_type": "stream",
     "text": [
      "This is dog class\n"
     ]
    }
   ],
   "source": [
    "dog1 = Dog()\n",
    "dog1.show_name()"
   ]
  },
  {
   "cell_type": "markdown",
   "id": "264efff8",
   "metadata": {},
   "source": [
    "# Method Resolution Order\n",
    "\n",
    "It is the order in which methods are searched for an object."
   ]
  },
  {
   "cell_type": "code",
   "execution_count": 2,
   "id": "d5301de0",
   "metadata": {},
   "outputs": [
    {
     "name": "stdout",
     "output_type": "stream",
     "text": [
      "In class A\n"
     ]
    }
   ],
   "source": [
    "class A:\n",
    "    def process(self):\n",
    "        print(\"In class A\")\n",
    "        \n",
    "class B:\n",
    "    def process(self):\n",
    "        print(\"In class B\")\n",
    "        \n",
    "class C(A,B):\n",
    "    pass\n",
    "\n",
    "# Creating object of C class.\n",
    "C1 = C()\n",
    "C1.process()\n",
    "   "
   ]
  },
  {
   "cell_type": "code",
   "execution_count": 7,
   "id": "5b07c270",
   "metadata": {},
   "outputs": [
    {
     "data": {
      "text/plain": [
       "(__main__.C, __main__.A, __main__.B, object)"
      ]
     },
     "execution_count": 7,
     "metadata": {},
     "output_type": "execute_result"
    }
   ],
   "source": [
    "C.__mro__     # every class inherit the objects and every thing in python or class is an object."
   ]
  },
  {
   "cell_type": "code",
   "execution_count": 8,
   "id": "5d5057e0",
   "metadata": {},
   "outputs": [
    {
     "data": {
      "text/plain": [
       "(__main__.A, object)"
      ]
     },
     "execution_count": 8,
     "metadata": {},
     "output_type": "execute_result"
    }
   ],
   "source": [
    "A.__mro__"
   ]
  },
  {
   "cell_type": "code",
   "execution_count": 10,
   "id": "8c60cbf9",
   "metadata": {},
   "outputs": [
    {
     "name": "stdout",
     "output_type": "stream",
     "text": [
      "<class 'type'>\n"
     ]
    }
   ],
   "source": [
    "print(type(A))           # every classes type are class type OBJeCT."
   ]
  },
  {
   "cell_type": "code",
   "execution_count": null,
   "id": "237259cb",
   "metadata": {},
   "outputs": [],
   "source": []
  }
 ],
 "metadata": {
  "kernelspec": {
   "display_name": "Python 3 (ipykernel)",
   "language": "python",
   "name": "python3"
  },
  "language_info": {
   "codemirror_mode": {
    "name": "ipython",
    "version": 3
   },
   "file_extension": ".py",
   "mimetype": "text/x-python",
   "name": "python",
   "nbconvert_exporter": "python",
   "pygments_lexer": "ipython3",
   "version": "3.10.9"
  }
 },
 "nbformat": 4,
 "nbformat_minor": 5
}
