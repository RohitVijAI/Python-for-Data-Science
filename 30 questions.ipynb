{
 "cells": [
  {
   "cell_type": "code",
   "execution_count": 4,
   "id": "1cb27e45",
   "metadata": {},
   "outputs": [
    {
     "name": "stdout",
     "output_type": "stream",
     "text": [
      "2335638028576\n",
      "{'rohit', 1, 2, 3, 4, 6, 5, 8, 9}\n",
      "2335638028576\n",
      "{'rohit', 1, 2, 3, 4, 6, 5, 8, 9}\n"
     ]
    }
   ],
   "source": [
    "# Add a list of elements to a set.\n",
    "\n",
    "list = [1,2,3,4,5]\n",
    "set = {\"rohit\",6,8,9}\n",
    "print(id(set))\n",
    "set.update(list)\n",
    "print(set)\n",
    "print(id(set))\n"
   ]
  },
  {
   "cell_type": "code",
   "execution_count": 5,
   "id": "f750f72f",
   "metadata": {},
   "outputs": [
    {
     "name": "stdout",
     "output_type": "stream",
     "text": [
      "{3, 4, 5, 6}\n"
     ]
    }
   ],
   "source": [
    "# return a new set of identical items from two sets.\n",
    "\n",
    "set1 = {1,2,3,4,5,6}\n",
    "set2 = {3,4,5,6,7,8,9,10}\n",
    "set1.intersection(set2)\n",
    "set1.intersection_update(set2)\n",
    "print(set1)"
   ]
  },
  {
   "cell_type": "code",
   "execution_count": 41,
   "id": "b819ba35",
   "metadata": {},
   "outputs": [
    {
     "name": "stdout",
     "output_type": "stream",
     "text": [
      "{1, 2, 3, 4, 5, 'rohit'}\n"
     ]
    }
   ],
   "source": [
    "# get only unique items from two sets.\n",
    "\n",
    "a = {1,\"rohit\",2,3,3,4,5}\n",
    "b = {1,2,2,\"rohit\",3,4}\n",
    "a.union(b)\n",
    "a.update(b)\n",
    "print(a)"
   ]
  },
  {
   "cell_type": "code",
   "execution_count": 13,
   "id": "d1c78838",
   "metadata": {},
   "outputs": [
    {
     "name": "stdout",
     "output_type": "stream",
     "text": [
      "{1, 2, 3}\n"
     ]
    }
   ],
   "source": [
    "# Update the first set with items that don't exist in the second set.\n",
    "\n",
    "set1 = {1,2,3,4,5}\n",
    "set2 = {4,5,6,7,8,9}\n",
    "set1.difference(set2)\n",
    "set1.difference_update(set2)\n",
    "print(set1)\n"
   ]
  },
  {
   "cell_type": "code",
   "execution_count": 53,
   "id": "16885ce1",
   "metadata": {},
   "outputs": [
    {
     "name": "stdout",
     "output_type": "stream",
     "text": [
      "{'gaurav', 'is a good boy'}\n"
     ]
    }
   ],
   "source": [
    "# remove items from the set at once.\n",
    "\n",
    "set = {\"rohit\",\"gaurav\",\"is a good boy\"}\n",
    "set.remove(\"rohit\")\n",
    "print(set)"
   ]
  },
  {
   "cell_type": "code",
   "execution_count": 51,
   "id": "7a2e970c",
   "metadata": {},
   "outputs": [
    {
     "name": "stdout",
     "output_type": "stream",
     "text": [
      "{1, 2, 3, 4, 5, 6, 7, 8}\n"
     ]
    }
   ],
   "source": [
    "# Return a set of elements present in set A or B,but not both.\n",
    "\n",
    "set1 = {1,2,3,4,5}\n",
    "set2 = {4,5,6,7,8}\n",
    "set1.update(set2)\n",
    "print(set1)"
   ]
  },
  {
   "cell_type": "code",
   "execution_count": 10,
   "id": "72efece1",
   "metadata": {},
   "outputs": [
    {
     "name": "stdout",
     "output_type": "stream",
     "text": [
      "{4, 5}\n"
     ]
    }
   ],
   "source": [
    "# Check if two sets have any element in common. if yes,display the common elements.\n",
    "\n",
    "set1 = {1,2,3,4,5}\n",
    "set2 = {4,5,6,7,8,9}\n",
    "set1.intersection(set2)\n",
    "set1.intersection_update(set2)\n",
    "print(set1)"
   ]
  },
  {
   "cell_type": "code",
   "execution_count": 12,
   "id": "03e113f9",
   "metadata": {},
   "outputs": [
    {
     "name": "stdout",
     "output_type": "stream",
     "text": [
      "{1, 2, 3, 6, 7, 8, 9}\n"
     ]
    }
   ],
   "source": [
    "# Update set 1 by adding items from set2,except common items.\n",
    "\n",
    "set1 = {1,2,3,4,5}\n",
    "set2 = {4,5,6,7,8,9}\n",
    "set1.symmetric_difference(set2)\n",
    "set1.symmetric_difference_update(set2)\n",
    "print(set1)"
   ]
  },
  {
   "cell_type": "code",
   "execution_count": 5,
   "id": "99076892",
   "metadata": {},
   "outputs": [
    {
     "name": "stdout",
     "output_type": "stream",
     "text": [
      "{1, 2, 3}\n"
     ]
    }
   ],
   "source": [
    "# Remove items from set1 that are not common to both set1 and set2.\n",
    "\n",
    "set1 = {1,2,3,4,5}\n",
    "set2 = {4,5,6,7,8,9}\n",
    "set1.difference(set2)\n",
    "set1.difference_update(set2)\n",
    "print(set1)\n",
    "\n"
   ]
  },
  {
   "cell_type": "markdown",
   "id": "9a204d93",
   "metadata": {},
   "source": [
    "# Table of contant"
   ]
  },
  {
   "cell_type": "code",
   "execution_count": 11,
   "id": "53763ec3",
   "metadata": {},
   "outputs": [
    {
     "name": "stdout",
     "output_type": "stream",
     "text": [
      "[1, 2, 3, 4, 5, 6, 7, 8, 9]\n"
     ]
    }
   ],
   "source": [
    "# reverse a list in python.\n",
    "\n",
    "lst = [9,8,7,6,5,4,3,2,1] \n",
    "lst.reverse()\n",
    "print(lst)"
   ]
  },
  {
   "cell_type": "code",
   "execution_count": 12,
   "id": "816cd98f",
   "metadata": {},
   "outputs": [
    {
     "name": "stdout",
     "output_type": "stream",
     "text": [
      "110\n"
     ]
    }
   ],
   "source": [
    "# concatinate two lists index-wise.\n",
    " \n",
    "lst1 = [1,2,3,4,5]\n",
    "lst2 = [6,7,8,9,10]\n",
    "x = str(lst1[0])\n",
    "y = str(lst2[4])\n",
    "print(x+y)\n",
    "\n"
   ]
  },
  {
   "cell_type": "code",
   "execution_count": 1,
   "id": "de960578",
   "metadata": {},
   "outputs": [
    {
     "name": "stdout",
     "output_type": "stream",
     "text": [
      "1\n",
      "4\n",
      "9\n",
      "16\n"
     ]
    }
   ],
   "source": [
    "# Turn every item of a list into its square.\n",
    "\n",
    "lst = [1,2,3,4]\n",
    "for a in lst:\n",
    "    b = a * a\n",
    "    print(b)\n",
    "\n"
   ]
  },
  {
   "cell_type": "code",
   "execution_count": 29,
   "id": "97cc42e8",
   "metadata": {},
   "outputs": [
    {
     "name": "stdout",
     "output_type": "stream",
     "text": [
      "['HelloDear', 'HelloSir', 'TakeDear', 'TakeSir']\n"
     ]
    }
   ],
   "source": [
    "# Concatenste two lists in the following order\n",
    "# lst1 = [\"Hello\",\"Take\"]\n",
    "# lst2 = [\"Dear\",\"Sir\"]\n",
    "\n",
    "# Exected output:\n",
    "# [\"Hello Dear\",\"Hello Sir\",\"Take Dear\",\"Take Sir\"]\n",
    "\n",
    "lst1 = [\"Hello\",\"Take\"]\n",
    "lst2 = [\"Dear\",\"Sir\"]\n",
    "\n",
    "x = lst1[0]\n",
    "y = lst1[1]\n",
    "z = lst2[0]\n",
    "k = lst2[1]\n",
    "print([x+z,x+k,y+z,y+k])\n",
    "    \n"
   ]
  },
  {
   "cell_type": "code",
   "execution_count": 6,
   "id": "233f6c6a",
   "metadata": {},
   "outputs": [
    {
     "name": "stdout",
     "output_type": "stream",
     "text": [
      "[1, 2, 3, 4, 5, 6]\n",
      "[6, 5, 4, 3, 2, 1]\n"
     ]
    }
   ],
   "source": [
    "# Iterate both lists simultaneously.\n",
    " \n",
    "lst1 = [1,2,3,4,5,6]\n",
    "lst2 = [6,5,4,3,2,1]\n",
    "for d in (lst1,lst2):\n",
    "    print(d)"
   ]
  },
  {
   "cell_type": "code",
   "execution_count": 3,
   "id": "1a7d35ab",
   "metadata": {},
   "outputs": [
    {
     "name": "stdout",
     "output_type": "stream",
     "text": [
      "['rohit', 'rishi']\n"
     ]
    }
   ],
   "source": [
    "## Remove empty strings from the list of string.\n",
    "\n",
    "lst = [\"rohit\",\"\",\"rishi\"]\n",
    "lst.remove(\"\")\n",
    "print(lst)"
   ]
  },
  {
   "cell_type": "code",
   "execution_count": 35,
   "id": "fde5498d",
   "metadata": {},
   "outputs": [
    {
     "name": "stdout",
     "output_type": "stream",
     "text": [
      "[1, 2, 3, 407, 4, 5, 6]\n"
     ]
    }
   ],
   "source": [
    "# Add new itens to list after a specified item.\n",
    "\n",
    "lst = [ 1,2,3,4,5,6]\n",
    "lst.insert(3,407)\n",
    "print(lst)"
   ]
  },
  {
   "cell_type": "code",
   "execution_count": 38,
   "id": "e1c3825f",
   "metadata": {},
   "outputs": [
    {
     "name": "stdout",
     "output_type": "stream",
     "text": [
      "['rishi', 'kartik', 'gaurav', 'mohit', ['rohit']]\n"
     ]
    }
   ],
   "source": [
    "# Extend nested list by adding the sublist.\n",
    "\n",
    "lst = [\"rishi\",\"kartik\",[\"rahul\"],\"gaurav\"]\n",
    "lst.extend([\"mohit\",[\"rohit\"]])\n",
    "print(lst)"
   ]
  },
  {
   "cell_type": "code",
   "execution_count": 4,
   "id": "1c0bef48",
   "metadata": {},
   "outputs": [
    {
     "data": {
      "text/plain": [
       "['rishi', 'ROHIT', 'gaurav']"
      ]
     },
     "execution_count": 4,
     "metadata": {},
     "output_type": "execute_result"
    }
   ],
   "source": [
    "# Replace list's item with new value if found.\n",
    "\n",
    "lst = [\"rishi\",\"kartik\",\"gaurav\"]\n",
    "lst[1] = \"ROHIT\"\n",
    "lst\n"
   ]
  },
  {
   "cell_type": "code",
   "execution_count": 47,
   "id": "c016a0c2",
   "metadata": {},
   "outputs": [
    {
     "name": "stdout",
     "output_type": "stream",
     "text": [
      "[1, 2, 3, 4, 5, 6, 7, 8, 9]\n"
     ]
    }
   ],
   "source": [
    "# Remove all occurrences of a specific item from a list.\n",
    "\n",
    "lst = [1,2,8,3,4,4,5,6,6,7,8,9]\n",
    "lst.remove(8)\n",
    "lst.remove(4)\n",
    "lst.remove(6)\n",
    "print(lst)"
   ]
  },
  {
   "cell_type": "markdown",
   "id": "4924fc64",
   "metadata": {},
   "source": [
    "#  Dict questions."
   ]
  },
  {
   "cell_type": "code",
   "execution_count": 33,
   "id": "35f834d0",
   "metadata": {},
   "outputs": [
    {
     "name": "stdout",
     "output_type": "stream",
     "text": [
      "{'rohit': 26, 'rishi': 27}\n",
      "<class 'dict'>\n"
     ]
    }
   ],
   "source": [
    "# Convert two lists into a dictionary.\n",
    "\n",
    "name = [\"rohit\",\"rishi\"]\n",
    "age  = [26,27]\n",
    "x = str(name[0])\n",
    "y = str(name[1])\n",
    "z = age[0]\n",
    "k = age[1]\n",
    "h = {x:z,y:k}\n",
    "print(h)\n",
    "print(type(h))"
   ]
  },
  {
   "cell_type": "code",
   "execution_count": 25,
   "id": "9b246ca0",
   "metadata": {},
   "outputs": [
    {
     "name": "stdout",
     "output_type": "stream",
     "text": [
      "{'rohit': 23, 'rishi': 24}\n"
     ]
    }
   ],
   "source": [
    "# Merge two Python dict into one.\n",
    "\n",
    "dict1 = {\"rohit\":23}\n",
    "dict2 = {\"rishi\":24}\n",
    "dict1.update(dict2)\n",
    "print(dict1)"
   ]
  },
  {
   "cell_type": "code",
   "execution_count": 28,
   "id": "6ff8555f",
   "metadata": {},
   "outputs": [
    {
     "data": {
      "text/plain": [
       "24"
      ]
     },
     "execution_count": 28,
     "metadata": {},
     "output_type": "execute_result"
    }
   ],
   "source": [
    "# print the value of a key from any dict.\n",
    "\n",
    "dict2[\"rishi\"]"
   ]
  },
  {
   "cell_type": "code",
   "execution_count": 5,
   "id": "3c9dcb3e",
   "metadata": {},
   "outputs": [
    {
     "name": "stdout",
     "output_type": "stream",
     "text": [
      "{'ROHIT': 22, 'BOBBY': 23, 'RISHI': 21}\n"
     ]
    }
   ],
   "source": [
    "# Initialize dict with defult values.\n",
    "\n",
    "B = dict(ROHIT=22,BOBBY=23,RISHI=21)\n",
    "print(B)\n"
   ]
  },
  {
   "cell_type": "code",
   "execution_count": 9,
   "id": "d028ee0f",
   "metadata": {},
   "outputs": [
    {
     "name": "stdout",
     "output_type": "stream",
     "text": [
      "dict_keys(['Hello', 'python'])\n",
      "<class 'dict'>\n"
     ]
    }
   ],
   "source": [
    "# Creat a dict by extracting the keys from a given dict.\n",
    "\n",
    "dict1 = {\"Hello\":12,\"python\":13}\n",
    "print(dict1.keys())\n",
    "print(type(dict1))\n",
    "\n"
   ]
  },
  {
   "cell_type": "code",
   "execution_count": 15,
   "id": "20bb60e0",
   "metadata": {},
   "outputs": [
    {
     "name": "stdout",
     "output_type": "stream",
     "text": [
      "{'python': 13}\n"
     ]
    }
   ],
   "source": [
    "# delete a list of a keys from a dict.\n",
    "\n",
    "dict1 = {\"Hello\":12,\"python\":13}\n",
    "del(dict1[\"Hello\"])\n",
    "print(dict1)\n"
   ]
  },
  {
   "cell_type": "code",
   "execution_count": 21,
   "id": "e7a8b9a0",
   "metadata": {},
   "outputs": [
    {
     "name": "stdout",
     "output_type": "stream",
     "text": [
      "dict_values([12, 13])\n",
      "True\n"
     ]
    }
   ],
   "source": [
    "# check if value exists in a dict.\n",
    "\n",
    "dict1 = {\"Hello\":12,\"python\":13}\n",
    "x = dict1.values()\n",
    "print(x)\n",
    "check = 12 in x\n",
    "print(check)"
   ]
  },
  {
   "cell_type": "code",
   "execution_count": 6,
   "id": "851f0523",
   "metadata": {},
   "outputs": [
    {
     "name": "stdout",
     "output_type": "stream",
     "text": [
      "{'Hello': 12}\n",
      "{'Hello': 12, 'Rishi': 13}\n"
     ]
    }
   ],
   "source": [
    "# Rename key of a dict.\n",
    "dict1 = {\"Hello\":12,\"python\":13}\n",
    "dict1.pop(\"python\")\n",
    "\n",
    "print(dict1)\n",
    "dict1.update({\"Rishi\":13})\n",
    "print(dict1)"
   ]
  },
  {
   "cell_type": "code",
   "execution_count": 3,
   "id": "e249e7e3",
   "metadata": {},
   "outputs": [
    {
     "data": {
      "text/plain": [
       "'python'"
      ]
     },
     "execution_count": 3,
     "metadata": {},
     "output_type": "execute_result"
    }
   ],
   "source": [
    "# Get the kry of a minimam value from the dollowing dict.\n",
    "\n",
    "dict1 = {\"Hello\":12,\"python\":13}\n",
    "max(dict1)"
   ]
  },
  {
   "cell_type": "code",
   "execution_count": null,
   "id": "2562254f",
   "metadata": {},
   "outputs": [],
   "source": []
  }
 ],
 "metadata": {
  "kernelspec": {
   "display_name": "Python 3 (ipykernel)",
   "language": "python",
   "name": "python3"
  },
  "language_info": {
   "codemirror_mode": {
    "name": "ipython",
    "version": 3
   },
   "file_extension": ".py",
   "mimetype": "text/x-python",
   "name": "python",
   "nbconvert_exporter": "python",
   "pygments_lexer": "ipython3",
   "version": "3.10.9"
  }
 },
 "nbformat": 4,
 "nbformat_minor": 5
}
