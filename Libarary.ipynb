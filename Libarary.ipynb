{
 "cells": [
  {
   "cell_type": "markdown",
   "id": "d92d46ea",
   "metadata": {},
   "source": [
    "# Library Management System"
   ]
  },
  {
   "cell_type": "code",
   "execution_count": 2,
   "id": "3d93347c",
   "metadata": {},
   "outputs": [],
   "source": [
    "class VijAi_Library:\n",
    "    '''I made a program to create a library management Systerm.\n",
    "    \n",
    "    Using class-{VijAi_Library},Two Instance Method - {borrow_book() and return_book()}.\n",
    "    And One class method-{books_presents}'''\n",
    "    \n",
    "    book_name = [\"Mega Living\",\"Python\",\"The new AI\",\"Python crash course\",\"python programming\",\n",
    "                 \"Feel the fear and do it any way\",\"GK\",\"Good habbit and bad habbit\",\"Machine learning\",\"English learning\"]\n",
    "    \n",
    "    Book_lst = book_name\n",
    "    book_ID = 0\n",
    "    book_ID_= 100\n",
    "    \n",
    "    def __init__(self):\n",
    "        self.customer_name = input('Name of customer :- ')\n",
    "        self.customer_age = input('Age of customer :- ')\n",
    "        self.customer_gender = input('Gender of customer :- ')\n",
    "        self.customer_address = input('Addres of customer :- ')\n",
    "        self.customer_phone_no = input('Phone NO of customer :- ')\n",
    "        for y in range(1):\n",
    "            self.book_ID_ += VijAi_Library.book_ID\n",
    "            print(\"Your library id is :- \", self.book_ID_)\n",
    "            book_ID_1 = 1+ self.book_ID_\n",
    "            VijAi_Library.book_ID_ = 1+ book_ID_1\n",
    "            \n",
    "    def borrow_book(self):\n",
    "        print(\"\\n\") \n",
    "        print(f'Books are present in VijAi_Robotics_Library. \\n{VijAi_Library.book_name}')\n",
    "        print(\"\\n\")\n",
    "        print(f'Select the book you want ?\\nEnter the same name as given in the list.')\n",
    "        book = input() \n",
    "        if book in VijAi_Library.Book_lst:\n",
    "            VijAi_Library.Book_lst.remove(book)\n",
    "            \n",
    "            print(f\"{self.customer_name} has borrowed the {book} book form  VijAi_Robotics_Library.\")\n",
    "            print(\"\\n\")\n",
    "            print(f'The current books available. \\n{VijAi_Library.Book_lst}')\n",
    "            print(\"\\n\")\n",
    "    \n",
    "        else:\n",
    "            print(\"This book is not available in VijAi_Robotics_Library. \")\n",
    "            print(\"\\n\")\n",
    "            \n",
    "            \n",
    "    def return_book(self):\n",
    "        book_ = [\"Mega Living\",\"Python\",\"AI\",\"Python crash course\",\"python programming\",\n",
    "                 \"Feel the fear and do it any way\",\"GK\"]\n",
    "       \n",
    "        print(f'Enter the name of book you want to return ? ')\n",
    "        book_1 = input()\n",
    "        if book_1 in book_:\n",
    "            if book_1 not in VijAi_Library.Book_lst:\n",
    "                VijAi_Library.Book_lst.append(book_1)\n",
    "                print(\"\\n\")\n",
    "                print(f'Thankyou {self.customer_name} has returned {book_1} book to VijAi_Robotics_Library. ')\n",
    "                print(\"\\n\")\n",
    "        \n",
    "        else:\n",
    "            print(f'Something went wrong.\\nPlease enter the correct book name of VijAi_Robotics_Library. \\nThis book does not belong to  VjAi_Robotics_Library.\\n')\n",
    "            #print(\"\\n\")\n",
    "            \n",
    "    @classmethod\n",
    "    def book_present(cls):\n",
    "        print(f'Books available in VijAi_Robotics_Library. \\n{VijAi_Library.book_name}')\n",
    "\n"
   ]
  },
  {
   "cell_type": "code",
   "execution_count": 3,
   "id": "9a48d690",
   "metadata": {
    "scrolled": true
   },
   "outputs": [
    {
     "name": "stdout",
     "output_type": "stream",
     "text": [
      "I made a program to create a library management Systerm.\n",
      "    \n",
      "    Using class-{VijAi_Library},Two Instance Method - {borrow_book() and return_book()}.\n",
      "    And One class method-{books_presents}\n"
     ]
    }
   ],
   "source": [
    "print( VijAi_Library.__doc__ ) "
   ]
  },
  {
   "cell_type": "code",
   "execution_count": 4,
   "id": "bcb4d04a",
   "metadata": {},
   "outputs": [
    {
     "name": "stdout",
     "output_type": "stream",
     "text": [
      "Name of customer :- \n",
      "Age of customer :- \n",
      "Gender of customer :- \n",
      "Addres of customer :- \n",
      "Phone NO of customer :- \n",
      "Your library id is :-  100\n",
      "\n",
      "\n",
      "Books are present in VijAi_Robotics_Library. \n",
      "['Mega Living', 'Python', 'The new AI', 'Python crash course', 'python programming', 'Feel the fear and do it any way', 'GK', 'Good habbit and bad habbit', 'Machine learning', 'English learning']\n",
      "\n",
      "\n",
      "Select the book you want ?\n",
      "Enter the same name as given in the list.\n",
      "\n",
      "This book is not available in VijAi_Robotics_Library. \n",
      "\n",
      "\n",
      "Enter the name of book you want to return ? \n",
      "\n",
      "Something went wrong.\n",
      "Please enter the correct book name of VijAi_Robotics_Library. \n",
      "This book does not belong to  VjAi_Robotics_Library.\n",
      "\n",
      "Books available in VijAi_Robotics_Library. \n",
      "['Mega Living', 'Python', 'The new AI', 'Python crash course', 'python programming', 'Feel the fear and do it any way', 'GK', 'Good habbit and bad habbit', 'Machine learning', 'English learning']\n"
     ]
    }
   ],
   "source": [
    "Rohit = VijAi_Library()\n",
    "Rohit.borrow_book()\n",
    "Rohit.return_book()\n",
    "Rohit.book_present()"
   ]
  },
  {
   "cell_type": "code",
   "execution_count": null,
   "id": "b81e9a7c",
   "metadata": {},
   "outputs": [],
   "source": [
    "Rishi = VijAi_Library()\n",
    "Rishi.borrow_book()\n",
    "Rishi.return_book()\n",
    "Rishi.book_present()"
   ]
  },
  {
   "cell_type": "code",
   "execution_count": 1,
   "id": "2790f97b",
   "metadata": {},
   "outputs": [
    {
     "data": {
      "text/plain": [
       "\"print(value, ..., sep=' ', end='\\\\n', file=sys.stdout, flush=False)\\n\\nPrints the values to a stream, or to sys.stdout by default.\\nOptional keyword arguments:\\nfile:  a file-like object (stream); defaults to the current sys.stdout.\\nsep:   string inserted between values, default a space.\\nend:   string appended after the last value, default a newline.\\nflush: whether to forcibly flush the stream.\""
      ]
     },
     "execution_count": 1,
     "metadata": {},
     "output_type": "execute_result"
    }
   ],
   "source": [
    "print.__doc__"
   ]
  },
  {
   "cell_type": "code",
   "execution_count": null,
   "id": "176e9547",
   "metadata": {},
   "outputs": [],
   "source": []
  }
 ],
 "metadata": {
  "kernelspec": {
   "display_name": "Python 3 (ipykernel)",
   "language": "python",
   "name": "python3"
  },
  "language_info": {
   "codemirror_mode": {
    "name": "ipython",
    "version": 3
   },
   "file_extension": ".py",
   "mimetype": "text/x-python",
   "name": "python",
   "nbconvert_exporter": "python",
   "pygments_lexer": "ipython3",
   "version": "3.10.9"
  }
 },
 "nbformat": 4,
 "nbformat_minor": 5
}
