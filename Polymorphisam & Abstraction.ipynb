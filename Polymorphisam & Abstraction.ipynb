{
 "cells": [
  {
   "cell_type": "markdown",
   "id": "d2eb95b3",
   "metadata": {},
   "source": [
    "# Polymorphisam"
   ]
  },
  {
   "cell_type": "markdown",
   "id": "86321265",
   "metadata": {},
   "source": [
    "# The term 'polymorphisam' comes from the Greek language and means 'something that taken on mulitple forms.\n",
    "\n",
    "- Poly(many)+morph(forms) = Polymorphisam\n",
    "\n",
    "\n",
    "- Im OOPs, ityems to the ability of a method to exist in various forms(behaviours)."
   ]
  },
  {
   "cell_type": "markdown",
   "id": "5dba3ae1",
   "metadata": {},
   "source": [
    "# Method oberriding.\n",
    "\n",
    "- Method overriding is a powerful feature that allows you to redefine a method of the parent calss the child class."
   ]
  },
  {
   "cell_type": "code",
   "execution_count": null,
   "id": "a6430a82",
   "metadata": {},
   "outputs": [],
   "source": [
    "class Profession:\n",
    "    \n",
    "    def __init__(self,name,prof):\n",
    "        self.name = name\n",
    "        self.prof = prof\n",
    "        \n",
    "    def display_prof(self):\n",
    "        print(f\"{self.name} has profession {self.prof}\")\n",
    "        \n",
    "class Data_scientist(Profession):\n",
    "    def display_prof(self):\n",
    "        print(f\"{self.name} is a data scientist\")\n",
    "        \n",
    "x = Data_scientist(\"roy\",12)\n",
    "x.display_prof()"
   ]
  },
  {
   "cell_type": "markdown",
   "id": "6d9ff84b",
   "metadata": {},
   "source": [
    "# Method overloading\n",
    "\n",
    "- Two or more methods has the same name but diffierent number of parameters  within the same class."
   ]
  },
  {
   "cell_type": "code",
   "execution_count": 9,
   "id": "c2098351",
   "metadata": {},
   "outputs": [
    {
     "name": "stdout",
     "output_type": "stream",
     "text": [
      "Roy has work experience of 4 years\n",
      "Roy has work experience of 8 years\n"
     ]
    }
   ],
   "source": [
    "class Person:\n",
    "    def __init__(self,name,age,exp):\n",
    "        self.name = name\n",
    "        self.age = age\n",
    "        self.exp = exp\n",
    "        \n",
    "    def display(self):\n",
    "        print(f\"{self.name} has work experience of {self.exp} years\")\n",
    "        \n",
    "    def display(self, new_exp):\n",
    "        self.expt = new_exp\n",
    "        print(f\"{self.name} has work experience of {self.expt} years\")\n",
    "            \n",
    "p1 = Person(\"Roy\",18,5)\n",
    "p1.display(4)\n",
    "p1.display(8)\n",
    "#Person.display(\"4\",6)"
   ]
  },
  {
   "cell_type": "code",
   "execution_count": 8,
   "id": "7f5777b5",
   "metadata": {},
   "outputs": [
    {
     "name": "stdout",
     "output_type": "stream",
     "text": [
      "Roy has work experience of 5 years\n",
      "Roy has work experience of 5 years\n"
     ]
    }
   ],
   "source": [
    "class Person:\n",
    "    def __init__(self,name,age,exp):\n",
    "        self.name = name\n",
    "        self.age = age\n",
    "        self.exp = exp\n",
    "        \n",
    "    def display(self):\n",
    "        print(f\"{self.name} has work experience of {self.exp} years\")\n",
    "        \n",
    "    def display(self, new_exp=None):\n",
    "        if new_exp != None:\n",
    "            self.expt = new_exp\n",
    "            print(f\"{self.name} has work experience of {self.exp} years\")\n",
    "        else:\n",
    "             print(f\"{self.name} as work experience of {self.expt} years\")\n",
    "p1 = Person(\"Roy\",18,5)\n",
    "p1.display(4)\n",
    "p1.display(10)\n",
    "#person.display(p1)\n"
   ]
  },
  {
   "cell_type": "markdown",
   "id": "6442a726",
   "metadata": {},
   "source": [
    "# Operators Overloding.\n",
    " - Operator Overloding is a feature in Python that allows developers to redefine the behaviour of mathenatical and comparison operators for custon data type. This means that you can use the standared mathematical operators (+,-,*,?,etc) and comparison operators(>,<,==.etc) in your own classes."
   ]
  },
  {
   "cell_type": "code",
   "execution_count": null,
   "id": "f81d48ee",
   "metadata": {},
   "outputs": [],
   "source": [
    "12+34"
   ]
  },
  {
   "cell_type": "code",
   "execution_count": null,
   "id": "e32c026c",
   "metadata": {},
   "outputs": [],
   "source": [
    "\"hellow\"+\"rohit\""
   ]
  },
  {
   "cell_type": "code",
   "execution_count": null,
   "id": "14d7af70",
   "metadata": {},
   "outputs": [],
   "source": [
    "[1,2,3,4]+[5,6]"
   ]
  },
  {
   "cell_type": "code",
   "execution_count": null,
   "id": "09ebbbd3",
   "metadata": {},
   "outputs": [],
   "source": [
    "int.__add__(12,34)"
   ]
  },
  {
   "cell_type": "code",
   "execution_count": null,
   "id": "362ef4fe",
   "metadata": {},
   "outputs": [],
   "source": [
    "str.__add__(\"rohit\",\"mohit\")"
   ]
  },
  {
   "cell_type": "code",
   "execution_count": null,
   "id": "69153c7e",
   "metadata": {},
   "outputs": [],
   "source": [
    "p1+p2 "
   ]
  },
  {
   "cell_type": "raw",
   "id": "68bf3b90",
   "metadata": {},
   "source": [
    "Addition  +       __add__(self,other)\n",
    "Subtraction  -    __sub__(self,other)\n",
    "Mulitplacation *  __mul__(self,other)\n",
    "Division     /    __truediv__(self,other)\n",
    "Floor Division // __floordiv__(self,other)\n",
    "Less than     <   __lt__(self,other)\n",
    "Grater tan >      __gt__(self,other)\n",
    "Equal to    ==    __eq__(self,other)\n",
    "Not equal !=      __ne__(self,other)\n",
    "\n"
   ]
  },
  {
   "cell_type": "code",
   "execution_count": null,
   "id": "1a1b1b43",
   "metadata": {},
   "outputs": [],
   "source": [
    "class Poly:\n",
    "    def __init__(self,a,b):\n",
    "        self.a = a\n",
    "        self.b = b\n",
    "        \n",
    "    def __add__(self,other):\n",
    "        sum_a = self.a + other.a\n",
    "        sum_b = self.b + other.b\n",
    "        return [sum_a,sum_b]\n",
    "    \n",
    "    def __sub__(self,other):\n",
    "        diff_a = self.a - other.a\n",
    "        diff_b = self.b - other.b\n",
    "        return [diff_a,diff_b]\n",
    "    \n",
    "p = Poly(1,2)\n",
    "p1 = Poly(3,4)\n",
    "print(p+p1)\n",
    "print(p-p1)\n",
    "    "
   ]
  },
  {
   "cell_type": "code",
   "execution_count": null,
   "id": "67784607",
   "metadata": {},
   "outputs": [],
   "source": [
    "p1.b"
   ]
  },
  {
   "cell_type": "code",
   "execution_count": 17,
   "id": "cead7d58",
   "metadata": {},
   "outputs": [
    {
     "name": "stdout",
     "output_type": "stream",
     "text": [
      "Roy as work experience of 10 years\n"
     ]
    }
   ],
   "source": [
    "class Person:\n",
    "    def __init__(self,name,age,exp):\n",
    "        self.name = name\n",
    "        self.age = age\n",
    "        self.exp = exp\n",
    "        \n",
    "    def display(self):\n",
    "        print(f\"{self.name} has work experience of {self.exp} years\")\n",
    "        \n",
    "    def display(self, new_exp=None):\n",
    "        if new_exp != None:\n",
    "            self.exp = new_exp\n",
    "            print(f\"{self.name} has work experience of {self.exp} years\")\n",
    "        else:\n",
    "             print(f\"{self.name} has work experience of {self.exp} year\")\n",
    "p1 = Person(\"Roy\",18,5)\n",
    "Person.display(p1,10)  # classname.method_name(self, , , ,)"
   ]
  },
  {
   "cell_type": "code",
   "execution_count": null,
   "id": "1060a055",
   "metadata": {},
   "outputs": [],
   "source": [
    "class Poly:\n",
    "    def __init__(self,a,b):\n",
    "        self.a = a\n",
    "        self.b = b\n",
    "        \n",
    "    def __add__(self,other):\n",
    "        sum_a = self.a + other.a\n",
    "        sum_b = self.b + other.b\n",
    "        return [sum_a,sum_b]\n",
    "    \n",
    "    def __sub__(self,other):\n",
    "        diff_a = self.a - other.a\n",
    "        diff_b = self.b - other.b\n",
    "        return [diff_a,diff_b]\n",
    "    \n",
    "    def __mul__(self,other):\n",
    "        mul_a = self.a * other.a\n",
    "        mul_b = self.a * other.b\n",
    "        return [mul_a,mul_b]\n",
    "        \n",
    "    \n",
    "p = Poly(1,2)\n",
    "p1 = Poly(3,4)\n",
    "print(p+p1)\n",
    "print(p-p1)\n",
    "print(p*p1)    "
   ]
  },
  {
   "cell_type": "code",
   "execution_count": null,
   "id": "02a2e9e0",
   "metadata": {},
   "outputs": [],
   "source": [
    "class Poly:\n",
    "    def __init__(self,a,b):\n",
    "        self.a = a\n",
    "        self.b = b\n",
    "        \n",
    "    def __add__(self,other):\n",
    "        x = self.a > self.b\n",
    "        y = other.a > other.b\n",
    "        if x > y == y < x:\n",
    "            print(\"yes\")\n",
    "            return[x,y]\n",
    "        else:\n",
    "            print(\"no\")\n",
    "            return [x,y]\n",
    "p = Poly(3,4)\n",
    "p1 = Poly(2,6)\n",
    "print(p+p1)      # + operator call the method is an magic method ."
   ]
  },
  {
   "cell_type": "code",
   "execution_count": null,
   "id": "50751765",
   "metadata": {},
   "outputs": [],
   "source": [
    "class division:\n",
    "    def __init__(self,x,y):\n",
    "        self.x = x\n",
    "        self.y = y\n",
    "        \n",
    "    def __truediv__(self,other):\n",
    "        div  = self.x / other.x\n",
    "        div1 = self.y / other.y\n",
    "        return [div,div1]\n",
    "    \n",
    "r = division(4,6)\n",
    "r1 = division(2,4)\n",
    "print(r/r1)\n",
    "        "
   ]
  },
  {
   "cell_type": "markdown",
   "id": "9099fb48",
   "metadata": {},
   "source": [
    "# Magic/Dunder/Special Methods\n",
    "\n",
    "- These are special methods that you can define in your classes,and when invoked, they give you a powerful way to mainipulate objects and their behevaiour.\n",
    "- These methods begin and end with dounle underscores."
   ]
  },
  {
   "cell_type": "raw",
   "id": "3516221d",
   "metadata": {},
   "source": [
    "most common magic methods used--\n",
    "\n",
    "1. __init__() ----- return none\n",
    "2. __str__()  ----- return string\n",
    "3. __repr__() ----- return string\n",
    "4. __len__()  ----- return interger/bool\n",
    "5 __call__()  ----- return any type data\n"
   ]
  },
  {
   "cell_type": "code",
   "execution_count": 1,
   "id": "de4077ec",
   "metadata": {},
   "outputs": [
    {
     "ename": "TypeError",
     "evalue": "object of type 'Employee' has no len()",
     "output_type": "error",
     "traceback": [
      "\u001b[1;31m---------------------------------------------------------------------------\u001b[0m",
      "\u001b[1;31mTypeError\u001b[0m                                 Traceback (most recent call last)",
      "Cell \u001b[1;32mIn[1], line 10\u001b[0m\n\u001b[0;32m      7\u001b[0m         \u001b[38;5;28mself\u001b[39m\u001b[38;5;241m.\u001b[39mage \u001b[38;5;241m=\u001b[39m \u001b[38;5;241m18\u001b[39m\n\u001b[0;32m      9\u001b[0m x \u001b[38;5;241m=\u001b[39m Employee(\u001b[38;5;241m123\u001b[39m)  \u001b[38;5;66;03m# __magic of __init__\u001b[39;00m\n\u001b[1;32m---> 10\u001b[0m \u001b[38;5;28;43mlen\u001b[39;49m\u001b[43m(\u001b[49m\u001b[43mx\u001b[49m\u001b[43m)\u001b[49m\n",
      "\u001b[1;31mTypeError\u001b[0m: object of type 'Employee' has no len()"
     ]
    }
   ],
   "source": [
    "class Employee:\n",
    "    def __init__(self,name):\n",
    "        self.name = name\n",
    "        \n",
    "    def show_name(self):\n",
    "        print(self.name)\n",
    "        self.age = 18\n",
    "        \n",
    "x = Employee(123)  # __magic of __init__\n",
    "len(x)"
   ]
  },
  {
   "cell_type": "code",
   "execution_count": 5,
   "id": "23da830b",
   "metadata": {},
   "outputs": [
    {
     "data": {
      "text/plain": [
       "str"
      ]
     },
     "execution_count": 5,
     "metadata": {},
     "output_type": "execute_result"
    }
   ],
   "source": [
    "type(\"34\")\n"
   ]
  },
  {
   "cell_type": "code",
   "execution_count": 6,
   "id": "e2596fe3",
   "metadata": {},
   "outputs": [
    {
     "data": {
      "text/plain": [
       "2"
      ]
     },
     "execution_count": 6,
     "metadata": {},
     "output_type": "execute_result"
    }
   ],
   "source": [
    "len(\"34\")"
   ]
  },
  {
   "cell_type": "code",
   "execution_count": 8,
   "id": "4ae55da5",
   "metadata": {},
   "outputs": [
    {
     "data": {
      "text/plain": [
       "2"
      ]
     },
     "execution_count": 8,
     "metadata": {},
     "output_type": "execute_result"
    }
   ],
   "source": [
    "str.__len__(\"34\")"
   ]
  },
  {
   "cell_type": "code",
   "execution_count": 9,
   "id": "5bfa99f8",
   "metadata": {
    "collapsed": true
   },
   "outputs": [
    {
     "ename": "TypeError",
     "evalue": "object of type 'bool' has no len()",
     "output_type": "error",
     "traceback": [
      "\u001b[1;31m---------------------------------------------------------------------------\u001b[0m",
      "\u001b[1;31mTypeError\u001b[0m                                 Traceback (most recent call last)",
      "Cell \u001b[1;32mIn[9], line 1\u001b[0m\n\u001b[1;32m----> 1\u001b[0m \u001b[38;5;28;43mlen\u001b[39;49m\u001b[43m(\u001b[49m\u001b[38;5;28;43;01mTrue\u001b[39;49;00m\u001b[43m)\u001b[49m\n",
      "\u001b[1;31mTypeError\u001b[0m: object of type 'bool' has no len()"
     ]
    }
   ],
   "source": [
    "len(True)"
   ]
  },
  {
   "cell_type": "code",
   "execution_count": 3,
   "id": "0f289aeb",
   "metadata": {},
   "outputs": [
    {
     "data": {
      "text/plain": [
       "7"
      ]
     },
     "execution_count": 3,
     "metadata": {},
     "output_type": "execute_result"
    }
   ],
   "source": [
    "#__len__\n",
    "class Employee:\n",
    "    def __init__(self,name):\n",
    "        self.name = name\n",
    "        \n",
    "    def __len__(self):\n",
    "        return len(self.name)\n",
    "    \n",
    "x = Employee(\"pranjal\")\n",
    "len(x)"
   ]
  },
  {
   "cell_type": "code",
   "execution_count": 7,
   "id": "474d1242",
   "metadata": {},
   "outputs": [
    {
     "data": {
      "text/plain": [
       "\"[12, 'rohit']\""
      ]
     },
     "execution_count": 7,
     "metadata": {},
     "output_type": "execute_result"
    }
   ],
   "source": [
    "x = [12,\"rohit\"]\n",
    "\n",
    "list.__repr__(x)"
   ]
  },
  {
   "cell_type": "code",
   "execution_count": 8,
   "id": "90eb5f66",
   "metadata": {},
   "outputs": [
    {
     "data": {
      "text/plain": [
       "['r', 'o', 'h', 'i', 't']"
      ]
     },
     "execution_count": 8,
     "metadata": {},
     "output_type": "execute_result"
    }
   ],
   "source": [
    "list.__call__(x[1])"
   ]
  },
  {
   "cell_type": "code",
   "execution_count": 22,
   "id": "95faff09",
   "metadata": {},
   "outputs": [
    {
     "name": "stdout",
     "output_type": "stream",
     "text": [
      "This is an object\n"
     ]
    },
    {
     "data": {
      "text/plain": [
       "<__main__.Employee at 0x222ca665720>"
      ]
     },
     "execution_count": 22,
     "metadata": {},
     "output_type": "execute_result"
    }
   ],
   "source": [
    "#__str__ - return the informal string representation of an object.\n",
    "\n",
    "class Employee:\n",
    "    def __init__(self,name):\n",
    "        self.name = name\n",
    "        \n",
    "    def __len__(self):\n",
    "        return len(self.name)\n",
    "    \n",
    "    def __str__(self):\n",
    "        return \"This is an object\"\n",
    "    \n",
    "x = Employee(\"pranjal\")\n",
    "print(x)  # informal string representation.\n",
    "x  # formal string representation."
   ]
  },
  {
   "cell_type": "code",
   "execution_count": 23,
   "id": "cd568b83",
   "metadata": {},
   "outputs": [
    {
     "name": "stdout",
     "output_type": "stream",
     "text": [
      "pranjal is an employee of the company.\n"
     ]
    },
    {
     "data": {
      "text/plain": [
       "we have an employeepranjal"
      ]
     },
     "execution_count": 23,
     "metadata": {},
     "output_type": "execute_result"
    }
   ],
   "source": [
    "# __repr__ - returns the \"official\"string representation of an object.\n",
    "\n",
    "class Employee:\n",
    "    def __init__(self,name):\n",
    "        self.name = name\n",
    "        \n",
    "    def __len__(self):\n",
    "        return len(self.name)\n",
    "    \n",
    "    def __str__(self):\n",
    "        return f\"{self.name} is an employee of the company.\"\n",
    "    \n",
    "    def __repr__(self):\n",
    "        return f\"we have an employee{self.name}\"\n",
    "    \n",
    "x = Employee(\"pranjal\")\n",
    "print(x) # print(x) is calling __str__ method.\n",
    "x   # x called __repr__ method."
   ]
  },
  {
   "cell_type": "code",
   "execution_count": 17,
   "id": "be456211",
   "metadata": {},
   "outputs": [
    {
     "name": "stdout",
     "output_type": "stream",
     "text": [
      "pranjal is an employee of the company\n"
     ]
    },
    {
     "ename": "TypeError",
     "evalue": "__repr__ returned non-string (type int)",
     "output_type": "error",
     "traceback": [
      "\u001b[1;31m---------------------------------------------------------------------------\u001b[0m",
      "\u001b[1;31mTypeError\u001b[0m                                 Traceback (most recent call last)",
      "File \u001b[1;32m~\\anaconda3\\lib\\site-packages\\IPython\\core\\formatters.py:706\u001b[0m, in \u001b[0;36mPlainTextFormatter.__call__\u001b[1;34m(self, obj)\u001b[0m\n\u001b[0;32m    699\u001b[0m stream \u001b[38;5;241m=\u001b[39m StringIO()\n\u001b[0;32m    700\u001b[0m printer \u001b[38;5;241m=\u001b[39m pretty\u001b[38;5;241m.\u001b[39mRepresentationPrinter(stream, \u001b[38;5;28mself\u001b[39m\u001b[38;5;241m.\u001b[39mverbose,\n\u001b[0;32m    701\u001b[0m     \u001b[38;5;28mself\u001b[39m\u001b[38;5;241m.\u001b[39mmax_width, \u001b[38;5;28mself\u001b[39m\u001b[38;5;241m.\u001b[39mnewline,\n\u001b[0;32m    702\u001b[0m     max_seq_length\u001b[38;5;241m=\u001b[39m\u001b[38;5;28mself\u001b[39m\u001b[38;5;241m.\u001b[39mmax_seq_length,\n\u001b[0;32m    703\u001b[0m     singleton_pprinters\u001b[38;5;241m=\u001b[39m\u001b[38;5;28mself\u001b[39m\u001b[38;5;241m.\u001b[39msingleton_printers,\n\u001b[0;32m    704\u001b[0m     type_pprinters\u001b[38;5;241m=\u001b[39m\u001b[38;5;28mself\u001b[39m\u001b[38;5;241m.\u001b[39mtype_printers,\n\u001b[0;32m    705\u001b[0m     deferred_pprinters\u001b[38;5;241m=\u001b[39m\u001b[38;5;28mself\u001b[39m\u001b[38;5;241m.\u001b[39mdeferred_printers)\n\u001b[1;32m--> 706\u001b[0m \u001b[43mprinter\u001b[49m\u001b[38;5;241;43m.\u001b[39;49m\u001b[43mpretty\u001b[49m\u001b[43m(\u001b[49m\u001b[43mobj\u001b[49m\u001b[43m)\u001b[49m\n\u001b[0;32m    707\u001b[0m printer\u001b[38;5;241m.\u001b[39mflush()\n\u001b[0;32m    708\u001b[0m \u001b[38;5;28;01mreturn\u001b[39;00m stream\u001b[38;5;241m.\u001b[39mgetvalue()\n",
      "File \u001b[1;32m~\\anaconda3\\lib\\site-packages\\IPython\\lib\\pretty.py:410\u001b[0m, in \u001b[0;36mRepresentationPrinter.pretty\u001b[1;34m(self, obj)\u001b[0m\n\u001b[0;32m    407\u001b[0m                         \u001b[38;5;28;01mreturn\u001b[39;00m meth(obj, \u001b[38;5;28mself\u001b[39m, cycle)\n\u001b[0;32m    408\u001b[0m                 \u001b[38;5;28;01mif\u001b[39;00m \u001b[38;5;28mcls\u001b[39m \u001b[38;5;129;01mis\u001b[39;00m \u001b[38;5;129;01mnot\u001b[39;00m \u001b[38;5;28mobject\u001b[39m \\\n\u001b[0;32m    409\u001b[0m                         \u001b[38;5;129;01mand\u001b[39;00m callable(\u001b[38;5;28mcls\u001b[39m\u001b[38;5;241m.\u001b[39m\u001b[38;5;18m__dict__\u001b[39m\u001b[38;5;241m.\u001b[39mget(\u001b[38;5;124m'\u001b[39m\u001b[38;5;124m__repr__\u001b[39m\u001b[38;5;124m'\u001b[39m)):\n\u001b[1;32m--> 410\u001b[0m                     \u001b[38;5;28;01mreturn\u001b[39;00m \u001b[43m_repr_pprint\u001b[49m\u001b[43m(\u001b[49m\u001b[43mobj\u001b[49m\u001b[43m,\u001b[49m\u001b[43m \u001b[49m\u001b[38;5;28;43mself\u001b[39;49m\u001b[43m,\u001b[49m\u001b[43m \u001b[49m\u001b[43mcycle\u001b[49m\u001b[43m)\u001b[49m\n\u001b[0;32m    412\u001b[0m     \u001b[38;5;28;01mreturn\u001b[39;00m _default_pprint(obj, \u001b[38;5;28mself\u001b[39m, cycle)\n\u001b[0;32m    413\u001b[0m \u001b[38;5;28;01mfinally\u001b[39;00m:\n",
      "File \u001b[1;32m~\\anaconda3\\lib\\site-packages\\IPython\\lib\\pretty.py:778\u001b[0m, in \u001b[0;36m_repr_pprint\u001b[1;34m(obj, p, cycle)\u001b[0m\n\u001b[0;32m    776\u001b[0m \u001b[38;5;124;03m\"\"\"A pprint that just redirects to the normal repr function.\"\"\"\u001b[39;00m\n\u001b[0;32m    777\u001b[0m \u001b[38;5;66;03m# Find newlines and replace them with p.break_()\u001b[39;00m\n\u001b[1;32m--> 778\u001b[0m output \u001b[38;5;241m=\u001b[39m \u001b[38;5;28;43mrepr\u001b[39;49m\u001b[43m(\u001b[49m\u001b[43mobj\u001b[49m\u001b[43m)\u001b[49m\n\u001b[0;32m    779\u001b[0m lines \u001b[38;5;241m=\u001b[39m output\u001b[38;5;241m.\u001b[39msplitlines()\n\u001b[0;32m    780\u001b[0m \u001b[38;5;28;01mwith\u001b[39;00m p\u001b[38;5;241m.\u001b[39mgroup():\n",
      "\u001b[1;31mTypeError\u001b[0m: __repr__ returned non-string (type int)"
     ]
    }
   ],
   "source": [
    "class Employee:\n",
    "    def __init__(self,name):\n",
    "        self.name = name\n",
    "        \n",
    "    def __len__(self):\n",
    "        return len(self.name)\n",
    "    \n",
    "    def __str__(self):\n",
    "        return f\"{self.name} is an employee of the company\"\n",
    "    \n",
    "    def __repr__(self):\n",
    "        return 123\n",
    "    \n",
    "x = Employee(\"pranjal\")\n",
    "print(x)  \n",
    "x"
   ]
  },
  {
   "cell_type": "code",
   "execution_count": 1,
   "id": "9093ae65",
   "metadata": {},
   "outputs": [
    {
     "name": "stdout",
     "output_type": "stream",
     "text": [
      "pranjal is an employee of the company\n",
      "hey I am good\n"
     ]
    },
    {
     "data": {
      "text/plain": [
       "23"
      ]
     },
     "execution_count": 1,
     "metadata": {},
     "output_type": "execute_result"
    }
   ],
   "source": [
    "# __call__ - The call method is used  used to make an object callable.\n",
    "\n",
    "class Employee:\n",
    "    def __init__(self,name):\n",
    "        self.name = name\n",
    "        \n",
    "    def __len__(self):\n",
    "        return len(self.name)\n",
    "    \n",
    "    def __str__(self):\n",
    "        return f\"{self.name} is an employee of the company\"\n",
    "    \n",
    "    def __repr__(self):\n",
    "        return f\"we have an employee{self.name}\"\n",
    "    \n",
    "    def __call__(self):\n",
    "        print(\"hey I am good\")\n",
    "        return 23\n",
    "     \n",
    "    \n",
    "x = Employee(\"pranjal\")\n",
    "print(x) # print(x) is calling __str__ method.\n",
    "x   # x called __repr__ method.\n",
    "x()  # x() called __call__ method."
   ]
  },
  {
   "cell_type": "markdown",
   "id": "55a435a9",
   "metadata": {},
   "source": [
    "# <font size = 10>Abstraction"
   ]
  },
  {
   "cell_type": "markdown",
   "id": "70fa857b",
   "metadata": {},
   "source": [
    "<br><font size = 3>Abstraction is used to hide the implementation details of methods from the user.\n",
    "<br>The user is familiar with \"what the method does\" but they do not know \"how it dose\"\n",
    "<br>Abstration is the implemented by creating \"Abstract Base class\" which contain \"Abstract Method\"\n",
    "<br>The abstract methods do not have any implementation.all the implementation ARE perfomed within the\n",
    "sub- classes.\n",
    "<br>All the sub-classes of the abstract bace class are required to the implement all the abstract methods.\n",
    "<br>You cannot create an object of the abstract bace class."
   ]
  },
  {
   "cell_type": "code",
   "execution_count": 1,
   "id": "8a74960a",
   "metadata": {},
   "outputs": [],
   "source": [
    "from abc import ABC,abstractmethod\n",
    "\n",
    "class Shape(ABC):\n",
    "    @abstractmethod         \n",
    "    def area(self):      # Implementation details are hidden\n",
    "        pass\n",
    "    \n",
    "    @abstractmethod\n",
    "    def perimeter(self):\n",
    "        pass\n",
    "    \n",
    "    def display(self):\n",
    "        return'this is not an abstract method'"
   ]
  },
  {
   "cell_type": "code",
   "execution_count": 2,
   "id": "b4170849",
   "metadata": {},
   "outputs": [
    {
     "ename": "TypeError",
     "evalue": "Can't instantiate abstract class Shape with abstract methods area, perimeter",
     "output_type": "error",
     "traceback": [
      "\u001b[1;31m---------------------------------------------------------------------------\u001b[0m",
      "\u001b[1;31mTypeError\u001b[0m                                 Traceback (most recent call last)",
      "Cell \u001b[1;32mIn[2], line 1\u001b[0m\n\u001b[1;32m----> 1\u001b[0m x \u001b[38;5;241m=\u001b[39m \u001b[43mShape\u001b[49m\u001b[43m(\u001b[49m\u001b[43m)\u001b[49m\n",
      "\u001b[1;31mTypeError\u001b[0m: Can't instantiate abstract class Shape with abstract methods area, perimeter"
     ]
    }
   ],
   "source": [
    "x = Shape() # only to check whether the object is creating or not."
   ]
  },
  {
   "cell_type": "code",
   "execution_count": 6,
   "id": "577e5d08",
   "metadata": {},
   "outputs": [
    {
     "data": {
      "text/plain": [
       "28"
      ]
     },
     "execution_count": 6,
     "metadata": {},
     "output_type": "execute_result"
    }
   ],
   "source": [
    "class Rectangle(Shape):\n",
    "    def area(self,length,breadth):\n",
    "        return length*breadth\n",
    "    \n",
    "    def perimeter(self,length,breadth):\n",
    "        return 2*(length+breadth)\n",
    "    \n",
    "rect = Rectangle()\n",
    "rect.area(4,6)\n",
    "rect.perimeter(6,8)\n"
   ]
  },
  {
   "cell_type": "code",
   "execution_count": 4,
   "id": "4bf94ba9",
   "metadata": {},
   "outputs": [
    {
     "data": {
      "text/plain": [
       "'this is not an abstract method'"
      ]
     },
     "execution_count": 4,
     "metadata": {},
     "output_type": "execute_result"
    }
   ],
   "source": [
    "rect.display()"
   ]
  },
  {
   "cell_type": "code",
   "execution_count": 2,
   "id": "ca75f8d3",
   "metadata": {},
   "outputs": [
    {
     "ename": "TypeError",
     "evalue": "can only concatenate str (not \"int\") to str",
     "output_type": "error",
     "traceback": [
      "\u001b[1;31m---------------------------------------------------------------------------\u001b[0m",
      "\u001b[1;31mTypeError\u001b[0m                                 Traceback (most recent call last)",
      "Cell \u001b[1;32mIn[2], line 1\u001b[0m\n\u001b[1;32m----> 1\u001b[0m \u001b[38;5;124;43m\"\u001b[39;49m\u001b[38;5;124;43m5\u001b[39;49m\u001b[38;5;124;43m\"\u001b[39;49m\u001b[38;5;241;43m+\u001b[39;49m\u001b[43m \u001b[49m\u001b[38;5;241;43m9\u001b[39;49m\n",
      "\u001b[1;31mTypeError\u001b[0m: can only concatenate str (not \"int\") to str"
     ]
    }
   ],
   "source": [
    "\"5\"+ 9"
   ]
  },
  {
   "cell_type": "code",
   "execution_count": null,
   "id": "d9567a94",
   "metadata": {},
   "outputs": [],
   "source": []
  }
 ],
 "metadata": {
  "kernelspec": {
   "display_name": "Python 3 (ipykernel)",
   "language": "python",
   "name": "python3"
  },
  "language_info": {
   "codemirror_mode": {
    "name": "ipython",
    "version": 3
   },
   "file_extension": ".py",
   "mimetype": "text/x-python",
   "name": "python",
   "nbconvert_exporter": "python",
   "pygments_lexer": "ipython3",
   "version": "3.10.9"
  }
 },
 "nbformat": 4,
 "nbformat_minor": 5
}
