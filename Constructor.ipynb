{
 "cells": [
  {
   "cell_type": "markdown",
   "id": "b9c48d7d",
   "metadata": {},
   "source": [
    "# Constructor\n",
    "\n",
    "***A constructor is a special method used to initialize an of a class.***\n",
    "\n",
    "- Defining constructors is optional.\n",
    "- Python will provide a default constructor if no constructor is defined.\n",
    "- The constructor is executed automatically at the time of Object creation.\n",
    "- The primary use of a constuctor is to Initialize instance variables of an object.The constructor contains a collection of statements that executes at the time of object creation."
   ]
  },
  {
   "cell_type": "code",
   "execution_count": 3,
   "id": "94ccdb54",
   "metadata": {},
   "outputs": [],
   "source": [
    "class student:\n",
    "    pass\n",
    "\n",
    "s1 = student()\n",
    "s2 = student()\n",
    "s3 = student()"
   ]
  },
  {
   "cell_type": "code",
   "execution_count": 4,
   "id": "21c29e56",
   "metadata": {},
   "outputs": [],
   "source": [
    "s1.name = \"ram\"\n",
    "s1.age = 17\n",
    "s1.profession = \"web developer\"\n",
    "\n",
    "\n",
    "s2.name = \"shyam\"\n",
    "s2.age = 16\n",
    "s2.profession = \"software developer\"\n",
    "\n",
    "\n",
    "s3.name = \"neeraj\"\n",
    "s3.age = 17\n",
    "s3.profession = \"deta scientist\"\n",
    "\n"
   ]
  },
  {
   "cell_type": "code",
   "execution_count": 1,
   "id": "bc2c5f79",
   "metadata": {},
   "outputs": [],
   "source": [
    "class Student:\n",
    "    # constructor\n",
    "    # initalize instance variable\n",
    "    def __init__(self,name,age,proff):\n",
    "        self.name = name\n",
    "        self.age = age\n",
    "        self.profession  = proff\n",
    "        \n",
    "# creat an object using constructor        \n",
    "s1 = Student(\"ram\",17,\"web developer\") \n",
    "s2 = Student(\"shyam\",16,\"software developer\") \n",
    "s3 = Student(\"neeraj\",18,\"data scientist\") \n",
    "        \n",
    "#del s3   "
   ]
  },
  {
   "cell_type": "code",
   "execution_count": 2,
   "id": "bbc5a80d",
   "metadata": {},
   "outputs": [
    {
     "name": "stdout",
     "output_type": "stream",
     "text": [
      "ram\n",
      "16\n",
      "data scientist\n"
     ]
    }
   ],
   "source": [
    "print(s1.name)\n",
    "print(s2.age)\n",
    "print(s3.profession)        # s3 has been deleted"
   ]
  },
  {
   "cell_type": "markdown",
   "id": "94a69748",
   "metadata": {},
   "source": [
    "# Destructor\n",
    "\n",
    "- A destructor is called when an object is deleted or destroyed."
   ]
  },
  {
   "cell_type": "code",
   "execution_count": 1,
   "id": "b1425090",
   "metadata": {},
   "outputs": [
    {
     "name": "stdout",
     "output_type": "stream",
     "text": [
      "inside Constructor \n",
      "Object initialized\n",
      "Hello, my name is Emma\n",
      "inside Constructor \n",
      "Object initialized\n"
     ]
    }
   ],
   "source": [
    "class Student:\n",
    "    def __init__(self,name):\n",
    "        print(\"inside Constructor \")\n",
    "        self.name = name\n",
    "        print(\"Object initialized\")\n",
    "        \n",
    "    def show(self):\n",
    "        print('Hello, my name is',self.name)\n",
    "        \n",
    "        # destructor\n",
    "    def __del__(self):\n",
    "        print(\"Inside destructor\")\n",
    "        print(\"Object destroyed\")\n",
    "\n",
    "        \n",
    "# creating object        \n",
    "s1 = Student('Emma')\n",
    "s1.show()\n",
    "s2 = Student('Rohit')\n",
    "\n",
    "# delete object\n",
    "# del s1\n",
    "del s1.name\n",
    "\n",
    "#Student.__del__(s1.name)"
   ]
  },
  {
   "cell_type": "code",
   "execution_count": 8,
   "id": "076edf6c",
   "metadata": {},
   "outputs": [
    {
     "data": {
      "text/plain": [
       "<__main__.Student at 0x1b974bf3070>"
      ]
     },
     "execution_count": 8,
     "metadata": {},
     "output_type": "execute_result"
    }
   ],
   "source": [
    "s1"
   ]
  },
  {
   "cell_type": "code",
   "execution_count": 22,
   "id": "abec396d",
   "metadata": {},
   "outputs": [
    {
     "ename": "AttributeError",
     "evalue": "'Student' object has no attribute 'name'",
     "output_type": "error",
     "traceback": [
      "\u001b[1;31m---------------------------------------------------------------------------\u001b[0m",
      "\u001b[1;31mAttributeError\u001b[0m                            Traceback (most recent call last)",
      "Cell \u001b[1;32mIn[22], line 1\u001b[0m\n\u001b[1;32m----> 1\u001b[0m \u001b[43ms1\u001b[49m\u001b[38;5;241;43m.\u001b[39;49m\u001b[43mname\u001b[49m\n",
      "\u001b[1;31mAttributeError\u001b[0m: 'Student' object has no attribute 'name'"
     ]
    }
   ],
   "source": [
    "s1.name"
   ]
  },
  {
   "cell_type": "markdown",
   "id": "21e08ffe",
   "metadata": {},
   "source": [
    "# Instance Methods \n",
    "\n",
    "- Methods in which instance variable  and class variable are used.\n",
    "- Used to access or modify both the object and class state.\n",
    "- It must have a self parameters to refer to the current object."
   ]
  },
  {
   "cell_type": "code",
   "execution_count": 7,
   "id": "3a91635c",
   "metadata": {},
   "outputs": [
    {
     "name": "stdout",
     "output_type": "stream",
     "text": [
      "Hey! I an a Data Scientist\n",
      "My name is  xyz\n"
     ]
    }
   ],
   "source": [
    "class Aspitant:\n",
    "    def __init__(self,name):           # constructors are special method\n",
    "        print(\"Hey! I an a Data Scientist\")\n",
    "        self.name = name\n",
    "        \n",
    "    def show(self):                     # show() is an instance method\n",
    "        print(\"My name is \",self.name)\n",
    "        \n",
    "a1 = Aspitant(\"xyz\")\n",
    "a1.show()                #calling an instance method"
   ]
  },
  {
   "cell_type": "code",
   "execution_count": 8,
   "id": "44e2158a",
   "metadata": {},
   "outputs": [
    {
     "name": "stdout",
     "output_type": "stream",
     "text": [
      "Hey! I an a Data Scientist\n",
      "My name is  abc\n"
     ]
    }
   ],
   "source": [
    "a2 = Aspitant(\"abc\")\n",
    "a2.show()"
   ]
  },
  {
   "cell_type": "code",
   "execution_count": 1,
   "id": "ef5a022c",
   "metadata": {},
   "outputs": [
    {
     "name": "stdout",
     "output_type": "stream",
     "text": [
      "Web Developer\n"
     ]
    }
   ],
   "source": [
    "class Person:\n",
    "    job = \"Data Scientist\"\n",
    "    def change_class_state(self):\n",
    "        Person.job = (\"Web Developer\")  # Access class attributes and change the class method.\n",
    "        print(Person.job)\n",
    "p1 = Person()\n",
    "p1.change_class_state()"
   ]
  },
  {
   "cell_type": "code",
   "execution_count": 5,
   "id": "e28add2b",
   "metadata": {},
   "outputs": [
    {
     "name": "stdout",
     "output_type": "stream",
     "text": [
      "Data Scientist\n"
     ]
    },
    {
     "data": {
      "text/plain": [
       "'Web Developer'"
      ]
     },
     "execution_count": 5,
     "metadata": {},
     "output_type": "execute_result"
    }
   ],
   "source": [
    "class Person:\n",
    "    job = \"Data Scientist\"\n",
    "    def change_class_state(self):\n",
    "        self.job = (\"Web Developer\")  \n",
    "        print(Person.job)\n",
    "p1 = Person()\n",
    "p1.change_class_state()\n",
    "p1.job"
   ]
  },
  {
   "cell_type": "markdown",
   "id": "c8200ca5",
   "metadata": {},
   "source": [
    "# Class method.\n",
    "\n",
    "- Methods in which only class variable is used.\n",
    "- Take the cls parameter.\n",
    "- Used to access or modify the class state."
   ]
  },
  {
   "cell_type": "code",
   "execution_count": 3,
   "id": "9cefc289",
   "metadata": {},
   "outputs": [
    {
     "name": "stdout",
     "output_type": "stream",
     "text": [
      "the value of x is 45 the value of y is 56\n"
     ]
    }
   ],
   "source": [
    "x = 45\n",
    "y = 56\n",
    "print(f\"the value of x is\",x,\"the value of y is\",y) "
   ]
  },
  {
   "cell_type": "code",
   "execution_count": 8,
   "id": "920233d3",
   "metadata": {},
   "outputs": [
    {
     "name": "stdout",
     "output_type": "stream",
     "text": [
      "the value of x is 45 the value of y is 56\n"
     ]
    }
   ],
   "source": [
    "x = 45\n",
    "y = 56\n",
    "print(f\"the value of x is {x} the value of y is {y}\")   #     (F)  STRING"
   ]
  },
  {
   "cell_type": "code",
   "execution_count": 14,
   "id": "d24bb0dc",
   "metadata": {},
   "outputs": [
    {
     "name": "stdout",
     "output_type": "stream",
     "text": [
      "The name of the school is ABC school in haldwani \n",
      "<class '__main__.School'>\n",
      "Now school has been changed to ABC SCHOOL in DELHI\n"
     ]
    }
   ],
   "source": [
    "class School:\n",
    "    school_name = \"ABC school\"\n",
    "    loc         = \"haldwani\"\n",
    "    \n",
    "    @classmethod                    #   decorator\n",
    "    def change_school(cls,name,loc1):\n",
    "        print(cls)\n",
    "        cls.school_name = name\n",
    "        cls.loc = loc1\n",
    "\n",
    "        \n",
    "std1 = School()\n",
    "print(f\"The name of the school is {School.school_name} in {School.loc} \")\n",
    "School.change_school(\"ABC SCHOOL\",\"DELHI\")\n",
    "print(f\"Now school has been changed to {School.school_name} in {School.loc}\")\n"
   ]
  },
  {
   "cell_type": "code",
   "execution_count": 2,
   "id": "ff51185d",
   "metadata": {},
   "outputs": [
    {
     "name": "stdout",
     "output_type": "stream",
     "text": [
      "The name of the school is ABC school in haldwani \n"
     ]
    },
    {
     "ename": "TypeError",
     "evalue": "School.change_school() missing 1 required positional argument: 'loc'",
     "output_type": "error",
     "traceback": [
      "\u001b[1;31m---------------------------------------------------------------------------\u001b[0m",
      "\u001b[1;31mTypeError\u001b[0m                                 Traceback (most recent call last)",
      "Cell \u001b[1;32mIn[2], line 14\u001b[0m\n\u001b[0;32m     12\u001b[0m std1 \u001b[38;5;241m=\u001b[39m School()\n\u001b[0;32m     13\u001b[0m \u001b[38;5;28mprint\u001b[39m(\u001b[38;5;124mf\u001b[39m\u001b[38;5;124m\"\u001b[39m\u001b[38;5;124mThe name of the school is \u001b[39m\u001b[38;5;132;01m{\u001b[39;00mSchool\u001b[38;5;241m.\u001b[39mschool_name\u001b[38;5;132;01m}\u001b[39;00m\u001b[38;5;124m in \u001b[39m\u001b[38;5;132;01m{\u001b[39;00mSchool\u001b[38;5;241m.\u001b[39mloc\u001b[38;5;132;01m}\u001b[39;00m\u001b[38;5;124m \u001b[39m\u001b[38;5;124m\"\u001b[39m)\n\u001b[1;32m---> 14\u001b[0m \u001b[43mSchool\u001b[49m\u001b[38;5;241;43m.\u001b[39;49m\u001b[43mchange_school\u001b[49m\u001b[43m(\u001b[49m\u001b[38;5;124;43m\"\u001b[39;49m\u001b[38;5;124;43mABC SCHOOL\u001b[39;49m\u001b[38;5;124;43m\"\u001b[39;49m\u001b[43m,\u001b[49m\u001b[38;5;124;43m\"\u001b[39;49m\u001b[38;5;124;43mDELHI\u001b[39;49m\u001b[38;5;124;43m\"\u001b[39;49m\u001b[43m)\u001b[49m\n\u001b[0;32m     15\u001b[0m \u001b[38;5;28mprint\u001b[39m(\u001b[38;5;124mf\u001b[39m\u001b[38;5;124m\"\u001b[39m\u001b[38;5;124mNow school has been changed to \u001b[39m\u001b[38;5;132;01m{\u001b[39;00mSchool\u001b[38;5;241m.\u001b[39mschool_name\u001b[38;5;132;01m}\u001b[39;00m\u001b[38;5;124m in \u001b[39m\u001b[38;5;132;01m{\u001b[39;00mSchool\u001b[38;5;241m.\u001b[39mloc\u001b[38;5;132;01m}\u001b[39;00m\u001b[38;5;124m\"\u001b[39m)\n",
      "\u001b[1;31mTypeError\u001b[0m: School.change_school() missing 1 required positional argument: 'loc'"
     ]
    }
   ],
   "source": [
    "# Error-------------------------------------Error\n",
    "class School:\n",
    "    school_name = \"ABC school\"\n",
    "    loc         = \"haldwani\"\n",
    "    \n",
    "    # @classmethod                          <--------\n",
    "    def change_school(cls,name,loc1):         #   IT IS NOT AN CLASS METHOD  \n",
    "        print(cls)\n",
    "        cls.school_name = name\n",
    "        cls.loc = loc1\n",
    "\n",
    "        \n",
    "std1 = School()\n",
    "print(f\"The name of the school is {School.school_name} in {School.loc} \")\n",
    "School.change_school(\"ABC SCHOOL\",\"DELHI\")\n",
    "print(f\"Now school has been changed to {School.school_name} in {School.loc}\")\n"
   ]
  },
  {
   "cell_type": "code",
   "execution_count": 6,
   "id": "4b5b7854",
   "metadata": {},
   "outputs": [
    {
     "name": "stdout",
     "output_type": "stream",
     "text": [
      "['Parag', '4th']\n",
      "Parag 4th\n"
     ]
    }
   ],
   "source": [
    "# Using class method as alternative constructors\n",
    "\n",
    "class school:\n",
    "    school_name = \"XYZ school\"\n",
    "    loc = \"haldwani\"\n",
    "    \n",
    "    def __init__(self,name,class_):              # constructor\n",
    "        self.name = name                         # instance variable\n",
    "        self.class_ = class_\n",
    "        \n",
    "    @classmethod\n",
    "    def new_admission(cls,info):              # class method IS (ALTERNATIVE CONSTRUCTOR)        \n",
    "        lst = info.split(\"@\")                # using split method\n",
    "        print(lst)\n",
    "        return cls(lst[0],lst[1])             # creating an object\n",
    "    \n",
    "std2 = school.new_admission(\"Parag@4th\")    # object will retun where we call\n",
    "                            \n",
    "print(std2.name,std2.class_)"
   ]
  },
  {
   "cell_type": "markdown",
   "id": "c0f07bc0",
   "metadata": {},
   "source": [
    "# Static  methods\n",
    "\n",
    "- Similar tp a normal function. \n",
    "- It does not take the cls and self parameters.\n",
    "- It cannot modify the state of the object or class.\n",
    "\n",
    "\n",
    "# Advantages\n",
    "\n",
    "- Safer Code :- as they cannot change the class or instance variable."
   ]
  },
  {
   "cell_type": "code",
   "execution_count": 1,
   "id": "e3d70ec6",
   "metadata": {},
   "outputs": [
    {
     "name": "stdout",
     "output_type": "stream",
     "text": [
      "Inside the static method  10 20\n",
      "Inside the static method  30 40\n"
     ]
    }
   ],
   "source": [
    "class Employee:\n",
    "    \n",
    "    @staticmethod\n",
    "    def sample(x,y):\n",
    "        print(\"Inside the static method \",x,y)\n",
    "        \n",
    "# call using class\n",
    "Employee.sample(10,20)\n",
    "\n",
    "#call using object\n",
    "emp = Employee()\n",
    "emp.sample(30,40)"
   ]
  }
 ],
 "metadata": {
  "kernelspec": {
   "display_name": "Python 3 (ipykernel)",
   "language": "python",
   "name": "python3"
  },
  "language_info": {
   "codemirror_mode": {
    "name": "ipython",
    "version": 3
   },
   "file_extension": ".py",
   "mimetype": "text/x-python",
   "name": "python",
   "nbconvert_exporter": "python",
   "pygments_lexer": "ipython3",
   "version": "3.10.9"
  }
 },
 "nbformat": 4,
 "nbformat_minor": 5
}
