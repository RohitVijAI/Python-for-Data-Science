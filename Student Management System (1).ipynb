{
 "cells": [
  {
   "cell_type": "markdown",
   "id": "f587a10d",
   "metadata": {},
   "source": [
    "Student Management System\n",
    "\n",
    "\n",
    "<br>You have been assigned the task of developing an advanced School Management System in Python, implementing Object-Oriented Programming (OOP) concepts. The system should incorporate inheritance, encapsulation with access modifiers, and enhanced security measures for student and teacher data. Use all the DRY concepts you have learned so far to reduce your code. \n",
    "<br>1.Person :\n",
    "<br>•\tAttributes :\n",
    "<br>•\tname (protected)\n",
    "<br>•\tage (protected)\n",
    "\n",
    "<br>Create a single method to display the details of the student (when Student object calls the method) and the teacher (when the Teacher object calls the method).\n",
    "\n",
    "<br>2.\tStudent :\n",
    "<br>•\tAttributes :\n",
    "<br>•\tStudent id  (private)\n",
    "<br>•\tPassword (private) – \n",
    "<br>Password required to change the student’s id\n",
    "\n"
   ]
  },
  {
   "cell_type": "code",
   "execution_count": 1,
   "id": "dc11d0ee",
   "metadata": {},
   "outputs": [],
   "source": [
    "class Person:\n",
    "    def __init__(self, name, age):\n",
    "        self._name = name  \n",
    "        self._age = age    \n",
    "\n",
    "    def display_details(self):\n",
    "        print(f\"Name :- {self._name}\")\n",
    "        print(f\"Age :- {self._age}\")\n",
    "\n",
    "\n",
    "class Student(Person):\n",
    "    def __init__(self, name, age, student_id, password):\n",
    "        super().__init__(name, age)\n",
    "        self.__student_id = student_id  \n",
    "        self.__password = password      \n",
    "\n",
    "    def change_student_id(self, new_student_id, password):\n",
    "        if password == self.__password:\n",
    "            self.__student_id = new_student_id\n",
    "            print(\"Student ID has been changed .\")\n",
    "        else:\n",
    "            print(\"Wrong password. Cannot change student ID.\")\n",
    "\n",
    "    def display_details(self):\n",
    "        super().display_details()\n",
    "        print(f\"Student ID :- {self.__student_id}\")\n",
    "\n",
    "\n",
    "class Teacher(Person):\n",
    "    def __init__(self, name, age, teacher_id, subject, password):\n",
    "        super().__init__(name, age)\n",
    "        self.__teacher_id = teacher_id  \n",
    "        self.__subject = subject        \n",
    "        self.__password = password     \n",
    "\n",
    "    def change_teacher_id(self, new_teacher_id, password):\n",
    "        if password == self.__password:\n",
    "            self.__teacher_id = new_teacher_id\n",
    "            print(\"Teacher ID has been changed.\")\n",
    "        else:\n",
    "            print(\"Wrong password. Cannot change teacher's ID.\")\n",
    "\n",
    "    def change_subject(self, new_subject, password):\n",
    "        if password == self.__password:\n",
    "            self.__subject = new_subject\n",
    "            print(\"Subject has been changed .\")\n",
    "        else:\n",
    "            print(\"Wrong password. Cannot change subject.\")\n",
    "\n",
    "    def display_details(self):\n",
    "        super().display_details()\n",
    "        print(f\"Teacher's ID: {self.__teacher_id}\")\n",
    "        print(f\"Subject :- {self.__subject}\")\n",
    "        "
   ]
  },
  {
   "cell_type": "code",
   "execution_count": 2,
   "id": "21098b1a",
   "metadata": {},
   "outputs": [],
   "source": [
    "stud = Student(\"Rohit\", 16, \"1111\", \"rohit@1234\")\n",
    "teac = Teacher(\"Mr.Rishi\", 28, \"2222\", \"Python\", \"rishi1234\")\n"
   ]
  },
  {
   "cell_type": "code",
   "execution_count": 3,
   "id": "2eb88af7",
   "metadata": {},
   "outputs": [
    {
     "name": "stdout",
     "output_type": "stream",
     "text": [
      "Name :- Rohit\n",
      "Age :- 16\n",
      "Student ID :- 1111\n",
      "Name :- Mr.Rishi\n",
      "Age :- 28\n",
      "Teacher's ID: 2222\n",
      "Subject :- Python\n"
     ]
    }
   ],
   "source": [
    "stud.display_details()\n",
    "teac.display_details()"
   ]
  },
  {
   "cell_type": "code",
   "execution_count": 4,
   "id": "56a9de06",
   "metadata": {},
   "outputs": [
    {
     "name": "stdout",
     "output_type": "stream",
     "text": [
      "Student ID has been changed .\n",
      "Teacher ID has been changed.\n",
      "Subject has been changed .\n"
     ]
    }
   ],
   "source": [
    "stud.change_student_id(\"12\", \"rohit@1234\")\n",
    "teac.change_teacher_id(\"13\", \"rishi1234\")\n",
    "teac.change_subject(\"Science\", \"rishi1234\")\n"
   ]
  },
  {
   "cell_type": "code",
   "execution_count": 5,
   "id": "780040b0",
   "metadata": {},
   "outputs": [
    {
     "name": "stdout",
     "output_type": "stream",
     "text": [
      "Name :- Rohit\n",
      "Age :- 16\n",
      "Student ID :- 12\n",
      "Name :- Mr.Rishi\n",
      "Age :- 28\n",
      "Teacher's ID: 13\n",
      "Subject :- Science\n"
     ]
    }
   ],
   "source": [
    "stud.display_details()\n",
    "teac.display_details()\n"
   ]
  },
  {
   "cell_type": "code",
   "execution_count": 6,
   "id": "b760efe3",
   "metadata": {},
   "outputs": [
    {
     "name": "stdout",
     "output_type": "stream",
     "text": [
      "Student ID has been changed .\n"
     ]
    }
   ],
   "source": [
    "stud.change_student_id(\"1111\",\"rohit@1234\")"
   ]
  },
  {
   "cell_type": "code",
   "execution_count": 7,
   "id": "e4db35cd",
   "metadata": {},
   "outputs": [
    {
     "name": "stdout",
     "output_type": "stream",
     "text": [
      "Student ID has been changed .\n"
     ]
    }
   ],
   "source": [
    "stud.change_student_id(\"15\", \"rohit@1234\")"
   ]
  },
  {
   "cell_type": "code",
   "execution_count": 8,
   "id": "c53b56d3",
   "metadata": {},
   "outputs": [
    {
     "name": "stdout",
     "output_type": "stream",
     "text": [
      "Name :- Rohit\n",
      "Age :- 16\n",
      "Student ID :- 15\n",
      "Name :- Mr.Rishi\n",
      "Age :- 28\n",
      "Teacher's ID: 13\n",
      "Subject :- Science\n"
     ]
    }
   ],
   "source": [
    "stud.display_details()\n",
    "teac.display_details()"
   ]
  },
  {
   "cell_type": "code",
   "execution_count": null,
   "id": "65dfaa96",
   "metadata": {},
   "outputs": [],
   "source": []
  },
  {
   "cell_type": "code",
   "execution_count": null,
   "id": "517c0862",
   "metadata": {},
   "outputs": [],
   "source": []
  }
 ],
 "metadata": {
  "kernelspec": {
   "display_name": "Python 3 (ipykernel)",
   "language": "python",
   "name": "python3"
  },
  "language_info": {
   "codemirror_mode": {
    "name": "ipython",
    "version": 3
   },
   "file_extension": ".py",
   "mimetype": "text/x-python",
   "name": "python",
   "nbconvert_exporter": "python",
   "pygments_lexer": "ipython3",
   "version": "3.10.9"
  }
 },
 "nbformat": 4,
 "nbformat_minor": 5
}
