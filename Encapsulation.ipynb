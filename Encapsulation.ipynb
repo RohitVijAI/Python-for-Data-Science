{
 "cells": [
  {
   "cell_type": "markdown",
   "id": "e54aa166",
   "metadata": {},
   "source": [
    "# Encapsulation\n",
    "Encapsulation involves bunding of data(attributes) and functions(methods) within a singe unit.\n",
    "\n",
    "Encapsulation is a way to restrict access to methods an attributes from outside the class.\n",
    "Whenever we are working with the class and dealing with sensitive data,providing access to all variables used within the class is not a good choise.\n"
   ]
  },
  {
   "cell_type": "markdown",
   "id": "bf908cb2",
   "metadata": {},
   "source": [
    "# Access modifieres in python \n",
    "\n",
    "1. Access modifiers limit access to the attributes and methods of a class.\n",
    "2. Python provides three types of access modifieres public,private and protected"
   ]
  },
  {
   "cell_type": "markdown",
   "id": "91af2b7a",
   "metadata": {},
   "source": [
    "# Public member\n",
    "\n",
    "- Acessible within and outside of a class.\n",
    "- All variables and method are public by default."
   ]
  },
  {
   "cell_type": "code",
   "execution_count": 3,
   "id": "c5066356",
   "metadata": {},
   "outputs": [
    {
     "name": "stdout",
     "output_type": "stream",
     "text": [
      "25\n",
      "xyz 25\n"
     ]
    }
   ],
   "source": [
    "class Aspirant:\n",
    "    \n",
    "    def __init__(self,name,age):\n",
    "        \n",
    "        self.name = name\n",
    "        self.age  = age\n",
    "        \n",
    "    def show(self):\n",
    "        print(self.name,self.age)\n",
    "        \n",
    "a1 = Aspirant(\"xyz\",25)  \n",
    "print(a1.age)\n",
    "a1.show()   "
   ]
  },
  {
   "cell_type": "markdown",
   "id": "7f67b5af",
   "metadata": {},
   "source": [
    "# Private member\n",
    "\n",
    "- Accessible only within the class \n",
    "- Can't access them directly from the class object.\n",
    "- We can creat private members using double underscores."
   ]
  },
  {
   "cell_type": "code",
   "execution_count": 1,
   "id": "7c426ad9",
   "metadata": {},
   "outputs": [
    {
     "ename": "IndentationError",
     "evalue": "unexpected indent (4193113450.py, line 10)",
     "output_type": "error",
     "traceback": [
      "\u001b[1;36m  Cell \u001b[1;32mIn[1], line 10\u001b[1;36m\u001b[0m\n\u001b[1;33m    print(a1.__profession)\u001b[0m\n\u001b[1;37m    ^\u001b[0m\n\u001b[1;31mIndentationError\u001b[0m\u001b[1;31m:\u001b[0m unexpected indent\n"
     ]
    }
   ],
   "source": [
    "class Aspirant:\n",
    "    \n",
    "    def __init__(self,name,age,profession):\n",
    "        \n",
    "        self.name = name\n",
    "        self.age  = age\n",
    "        self.__profession = profession\n",
    "        \n",
    "a1 = Aspirant(\"xyz\",25,\"CA\")  \n",
    "print(a1.__profession)\n",
    "    "
   ]
  },
  {
   "cell_type": "code",
   "execution_count": 17,
   "id": "db8c3df8",
   "metadata": {},
   "outputs": [
    {
     "name": "stdout",
     "output_type": "stream",
     "text": [
      "CA\n"
     ]
    },
    {
     "ename": "AttributeError",
     "evalue": "type object 'Aspirant' has no attribute '__show'",
     "output_type": "error",
     "traceback": [
      "\u001b[1;31m---------------------------------------------------------------------------\u001b[0m",
      "\u001b[1;31mAttributeError\u001b[0m                            Traceback (most recent call last)",
      "Cell \u001b[1;32mIn[17], line 14\u001b[0m\n\u001b[0;32m     12\u001b[0m a1 \u001b[38;5;241m=\u001b[39m Aspirant(\u001b[38;5;124m\"\u001b[39m\u001b[38;5;124mxyz\u001b[39m\u001b[38;5;124m\"\u001b[39m,\u001b[38;5;241m25\u001b[39m,\u001b[38;5;124m\"\u001b[39m\u001b[38;5;124mCA\u001b[39m\u001b[38;5;124m\"\u001b[39m)  \n\u001b[0;32m     13\u001b[0m \u001b[38;5;28mprint\u001b[39m(a1\u001b[38;5;241m.\u001b[39mprofession)\n\u001b[1;32m---> 14\u001b[0m \u001b[43mAspirant\u001b[49m\u001b[38;5;241;43m.\u001b[39;49m\u001b[43m__show\u001b[49m\n",
      "\u001b[1;31mAttributeError\u001b[0m: type object 'Aspirant' has no attribute '__show'"
     ]
    }
   ],
   "source": [
    "class Aspirant:\n",
    "    \n",
    "    def __init__(self,name,age,profession):\n",
    "        \n",
    "        self.name = name\n",
    "        self.age  = age\n",
    "        self.profession = profession\n",
    "        \n",
    "    def __show(self):                # private method\n",
    "        print(self.name,self.age)    \n",
    "        \n",
    "a1 = Aspirant(\"xyz\",25,\"CA\")  \n",
    "print(a1.profession)\n",
    "Aspirant.__show\n",
    "#a1.__name\n",
    "#a1.__age   "
   ]
  },
  {
   "cell_type": "markdown",
   "id": "33ac36f3",
   "metadata": {},
   "source": [
    "# Accessing private attributes using a METHOD."
   ]
  },
  {
   "cell_type": "code",
   "execution_count": 2,
   "id": "f2a2636d",
   "metadata": {},
   "outputs": [
    {
     "name": "stdout",
     "output_type": "stream",
     "text": [
      "xyz with age 25 is a CA\n",
      "None\n"
     ]
    }
   ],
   "source": [
    "class Aspirant:\n",
    "    \n",
    "    def __init__(self,name,age,profession):\n",
    "        \n",
    "        self.name = name\n",
    "        self.age  = age\n",
    "        self.__profession = profession\n",
    "        \n",
    "    def show(self):\n",
    "        print(f\"{self.name} with age {self.age} is a {self.__profession}\")    # private method\n",
    "        \n",
    "a1 = Aspirant(\"xyz\",25,\"CA\")  \n",
    "print(a1.show())\n",
    "\n",
    "    "
   ]
  },
  {
   "cell_type": "code",
   "execution_count": 12,
   "id": "38fd9a9f",
   "metadata": {},
   "outputs": [
    {
     "name": "stdout",
     "output_type": "stream",
     "text": [
      "xyz with age 25 is a CA\n",
      "xyz with age 25 is a CA\n"
     ]
    }
   ],
   "source": [
    "class Aspirant:\n",
    "    \n",
    "    def __init__(self,name,age,profession):\n",
    "        \n",
    "        self.name = name\n",
    "        self.age  = age\n",
    "        self.__profession = profession\n",
    "        self.__show()    # calling instance (private) method inside the class\n",
    "        \n",
    "    def __show(self):\n",
    "        print(f\"{self.name} with age {self.age} is a {self.__profession}\")    # private method\n",
    "        \n",
    "    def access_show(self):    # calling an private method inside the class\n",
    "        self.__show()\n",
    "        \n",
    "a1 = Aspirant(\"xyz\",25,\"CA\")  \n",
    "a1.access_show()\n"
   ]
  },
  {
   "cell_type": "markdown",
   "id": "d0c8a39d",
   "metadata": {},
   "source": [
    "# Protected member\n",
    "\n",
    "- Accessible only within the class and its child class.\n",
    "- Can't accesss them directly from object.\n",
    "- We can creat protected member using a single under score."
   ]
  },
  {
   "cell_type": "code",
   "execution_count": 15,
   "id": "9baa2563",
   "metadata": {},
   "outputs": [
    {
     "name": "stdout",
     "output_type": "stream",
     "text": [
      "employee name: roy\n",
      "Working on project NLP\n"
     ]
    }
   ],
   "source": [
    "class Company:\n",
    "    def __init__(self):\n",
    "        # proctected member\n",
    "        self._project = 'NLP'\n",
    "        \n",
    "#child class\n",
    "class Employee(Company):\n",
    "    def __init__(self,name):\n",
    "        self.name = name\n",
    "        super().__init__()\n",
    "        \n",
    "    def show(self):\n",
    "        print(\"employee name:\", self.name)\n",
    "        #Accessing protected member inside child class\n",
    "        print('Working on project', self._project)\n",
    "c = Employee(\"roy\")\n",
    "c.show()"
   ]
  },
  {
   "cell_type": "markdown",
   "id": "becfe973",
   "metadata": {},
   "source": [
    "# Actually there are no modification "
   ]
  },
  {
   "cell_type": "code",
   "execution_count": 3,
   "id": "35de0780",
   "metadata": {},
   "outputs": [
    {
     "data": {
      "text/plain": [
       "['_Company__init_',\n",
       " '__class__',\n",
       " '__delattr__',\n",
       " '__dict__',\n",
       " '__dir__',\n",
       " '__doc__',\n",
       " '__eq__',\n",
       " '__format__',\n",
       " '__ge__',\n",
       " '__getattribute__',\n",
       " '__gt__',\n",
       " '__hash__',\n",
       " '__init__',\n",
       " '__init_subclass__',\n",
       " '__le__',\n",
       " '__lt__',\n",
       " '__module__',\n",
       " '__ne__',\n",
       " '__new__',\n",
       " '__reduce__',\n",
       " '__reduce_ex__',\n",
       " '__repr__',\n",
       " '__setattr__',\n",
       " '__sizeof__',\n",
       " '__str__',\n",
       " '__subclasshook__',\n",
       " '__weakref__',\n",
       " 'name',\n",
       " 'show']"
      ]
     },
     "execution_count": 3,
     "metadata": {},
     "output_type": "execute_result"
    }
   ],
   "source": [
    "dir(c)"
   ]
  },
  {
   "cell_type": "code",
   "execution_count": 16,
   "id": "4c945370",
   "metadata": {},
   "outputs": [
    {
     "name": "stdout",
     "output_type": "stream",
     "text": [
      "employee name: roy\n",
      "Working on project NLP\n"
     ]
    }
   ],
   "source": [
    "class Company:\n",
    "    def __init__(self):\n",
    "        # proctected member\n",
    "        self._project = 'NLP'\n",
    "        \n",
    "#child class\n",
    "class Employee(Company):\n",
    "    def __init__(self,name):\n",
    "        self.name = name\n",
    "        super().__init__()\n",
    "        \n",
    "    def show(self):\n",
    "        print(\"employee name:\", self.name)\n",
    "        #Accessing protected member inside child class\n",
    "        print('Working on project', self._project)\n",
    "c = Employee(\"roy\")\n",
    "c.show()"
   ]
  },
  {
   "cell_type": "markdown",
   "id": "ed46dba3",
   "metadata": {},
   "source": [
    "# Assessing private variables using name mangling\n",
    "\n",
    "- Name mangling is a mechanism which causes the attribute with double undersocres to become _ClassName__attribute internally within python.\n",
    "\n"
   ]
  },
  {
   "cell_type": "code",
   "execution_count": 4,
   "id": "ef4c65ed",
   "metadata": {},
   "outputs": [
    {
     "name": "stdout",
     "output_type": "stream",
     "text": [
      "CA\n"
     ]
    }
   ],
   "source": [
    "class Aspirant:\n",
    "    \n",
    "    def __init__(self,name,age,profession):\n",
    "        \n",
    "        self.name = name\n",
    "        self.age = age\n",
    "        self.__profession = profession\n",
    "        \n",
    "a1 = Aspirant(\"xyz\",25,\"CA\")\n",
    "print(a1._Aspirant__profession)"
   ]
  },
  {
   "cell_type": "markdown",
   "id": "78cd306c",
   "metadata": {},
   "source": [
    "# Getters and Setters.\n",
    "\n",
    "- Getters are method used to access the values of private attributes.\n",
    "- Setters are methods used to change the values of private attributes."
   ]
  },
  {
   "cell_type": "markdown",
   "id": "03270ba9",
   "metadata": {},
   "source": [
    "- Used to achive encapsulation. The control the access to the private variables.\n",
    "- Prevent any invilid value from being initialized to the variable.\n",
    "- We can hide the implementation details od a class from external users."
   ]
  },
  {
   "cell_type": "code",
   "execution_count": 2,
   "id": "57076253",
   "metadata": {},
   "outputs": [
    {
     "name": "stdout",
     "output_type": "stream",
     "text": [
      "29\n"
     ]
    },
    {
     "data": {
      "text/plain": [
       "78"
      ]
     },
     "execution_count": 2,
     "metadata": {},
     "output_type": "execute_result"
    }
   ],
   "source": [
    "class Number:\n",
    "    def __init__(self):\n",
    "        self.__num = 29\n",
    "        \n",
    "    @property  # getter\n",
    "    def num(self):\n",
    "        return self.__num\n",
    "    \n",
    "    @num.setter   # setter\n",
    "    def num(self,new_num):\n",
    "        self.__num = new_num\n",
    "        \n",
    "        \n",
    "x = Number()\n",
    "y = Number()\n",
    "print(x.num)\n",
    "x.num = 78\n",
    "x.num"
   ]
  },
  {
   "cell_type": "code",
   "execution_count": 3,
   "id": "5a41dfac",
   "metadata": {},
   "outputs": [
    {
     "name": "stdout",
     "output_type": "stream",
     "text": [
      "Invalid value \n",
      "Enter value between 0-100\n"
     ]
    },
    {
     "data": {
      "text/plain": [
       "17"
      ]
     },
     "execution_count": 3,
     "metadata": {},
     "output_type": "execute_result"
    }
   ],
   "source": [
    "class Number:\n",
    "    def __init__(self):\n",
    "        self.__num = 29\n",
    "        self.__age = 17\n",
    "        \n",
    "    @property  # getter\n",
    "    def num(self):\n",
    "        return self.__num\n",
    "    \n",
    "    @num.setter   # setter\n",
    "    def num(self,new_num):\n",
    "        self.__num = new_num\n",
    "        \n",
    "    @property  # getter\n",
    "    def age(self):\n",
    "        return self.__age    \n",
    "        \n",
    "    @age.setter   # setter\n",
    "    def age(self,new_age):\n",
    "        if new_age > 100:\n",
    "            print(\"Invalid value \\nEnter value between 0-100\")\n",
    "        else:\n",
    "            self.__age = new_age\n",
    "            \n",
    "x = Number()\n",
    "y = Number()\n",
    "y.age = 200\n",
    "y.age\n",
    "# y_Number__age = 200  not to brk the convection.\n",
    "# print(y_Number__age)"
   ]
  },
  {
   "cell_type": "code",
   "execution_count": null,
   "id": "0359ee3d",
   "metadata": {},
   "outputs": [],
   "source": []
  }
 ],
 "metadata": {
  "kernelspec": {
   "display_name": "Python 3 (ipykernel)",
   "language": "python",
   "name": "python3"
  },
  "language_info": {
   "codemirror_mode": {
    "name": "ipython",
    "version": 3
   },
   "file_extension": ".py",
   "mimetype": "text/x-python",
   "name": "python",
   "nbconvert_exporter": "python",
   "pygments_lexer": "ipython3",
   "version": "3.10.9"
  }
 },
 "nbformat": 4,
 "nbformat_minor": 5
}
