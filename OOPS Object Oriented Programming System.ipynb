{
 "cells": [
  {
   "cell_type": "markdown",
   "id": "bc5ab526",
   "metadata": {},
   "source": [
    "# OOPS"
   ]
  },
  {
   "cell_type": "markdown",
   "id": "1ce930c3",
   "metadata": {},
   "source": [
    "Every object must be the uniquely identifined\n",
    "\n",
    "- 1- Identity: Every objects must be in uniquely identified.\n",
    "- 2- State: An object has attributes that represent the state of an object.\n",
    "- 3- Behavior: An object has methods that represent its behavior.\n",
    "\n",
    "\n",
    "Object is an instance of a class"
   ]
  },
  {
   "cell_type": "markdown",
   "id": "a87d776a",
   "metadata": {},
   "source": [
    "Class is a blueprint or code template for object creation.Using a class, you can create as many object as you want."
   ]
  },
  {
   "cell_type": "markdown",
   "id": "22add8a5",
   "metadata": {},
   "source": [
    "# **Methods are defined for the objects of a particular class where as fuction are not defined for a particular class**\n",
    " "
   ]
  },
  {
   "cell_type": "code",
   "execution_count": 2,
   "id": "ff7bbe74",
   "metadata": {},
   "outputs": [
    {
     "data": {
      "text/plain": [
       "' This is a docstring,I have created a class'"
      ]
     },
     "execution_count": 2,
     "metadata": {},
     "output_type": "execute_result"
    }
   ],
   "source": [
    "# Creating a class\n",
    "\n",
    "class class_name:\n",
    "    \"\"\" This is a docstring,I have created a class\"\"\"\n",
    "    \n",
    "class_name.__doc__    "
   ]
  },
  {
   "cell_type": "code",
   "execution_count": 1,
   "id": "3fec2d59",
   "metadata": {},
   "outputs": [],
   "source": [
    "class person:\n",
    "    def __init__(self,name,gender,profession):    # object initialization,parameter\n",
    "        \n",
    "        # State (attributes - variables)\n",
    "        self.name_ = name       # instance attribute (instance is an object).\n",
    "        self.gender_ = gender\n",
    "        self.profession_ = profession\n",
    "        \n",
    "        \n",
    "    #Behaviour (methods)\n",
    "    def show(self):\n",
    "        print(\"Name:\",self.name_,\"gender:\",self.gender_,'Profession:',self.profession_)\n",
    "        \n",
    "    def work(self):\n",
    "        print(self.name_,'is working as a',self. profession_) \n",
    "    "
   ]
  },
  {
   "cell_type": "code",
   "execution_count": 2,
   "id": "2f5803c6",
   "metadata": {},
   "outputs": [],
   "source": [
    "#object creation\n",
    "ram = person(\"ram\",\"male\",\"software developer\")\n",
    "shyam = person (\"shyam\", \"male\",\"data scientist\") "
   ]
  },
  {
   "cell_type": "code",
   "execution_count": 5,
   "id": "db142256",
   "metadata": {},
   "outputs": [
    {
     "name": "stdout",
     "output_type": "stream",
     "text": [
      "Rohit\n",
      "male\n",
      "software developer\n",
      "15000\n",
      "bhowali\n",
      "Name: Rohit gender: male Profession: software developer\n",
      "Rohit is working as a software developer\n",
      "Name: shyam gender: male Profession: data scientist\n",
      "shyam is working as a data scientist\n"
     ]
    },
    {
     "data": {
      "text/plain": [
       "'Rohit'"
      ]
     },
     "execution_count": 5,
     "metadata": {},
     "output_type": "execute_result"
    }
   ],
   "source": [
    "ram.name_ = \"Rohit\"     # also we can change the arguements \n",
    "print(ram.name_)\n",
    "print(ram.gender_)\n",
    "print(ram.profession_)\n",
    "\n",
    "ram.salary_ = 15000            #  new attributes \n",
    "print(ram.salary_)\n",
    "\n",
    "ram.town_ = \"bhowali\"\n",
    "print(ram.town_)\n",
    "ram.show()\n",
    "ram.work()\n",
    "shyam.show()\n",
    "shyam.work()\n",
    "\n",
    "ram.name_"
   ]
  },
  {
   "cell_type": "code",
   "execution_count": 16,
   "id": "7dad2894",
   "metadata": {},
   "outputs": [
    {
     "name": "stdout",
     "output_type": "stream",
     "text": [
      "15000\n"
     ]
    }
   ],
   "source": [
    "ram.salary_ = 15000            #  new attributes \n",
    "print(ram.salary_)"
   ]
  },
  {
   "cell_type": "code",
   "execution_count": 6,
   "id": "39f22c5b",
   "metadata": {},
   "outputs": [
    {
     "name": "stdout",
     "output_type": "stream",
     "text": [
      "15000\n"
     ]
    }
   ],
   "source": [
    "print(ram.salary_)            "
   ]
  },
  {
   "cell_type": "code",
   "execution_count": 10,
   "id": "5bc59048",
   "metadata": {},
   "outputs": [
    {
     "name": "stdout",
     "output_type": "stream",
     "text": [
      "bhowali\n"
     ]
    }
   ],
   "source": [
    "ram.town_ = \"bhowali\"\n",
    "print(ram.town_)"
   ]
  },
  {
   "cell_type": "code",
   "execution_count": 6,
   "id": "fbd1a8df",
   "metadata": {},
   "outputs": [],
   "source": [
    "class cars:\n",
    "    def __init__ (self,name,average,cc):\n",
    "        self.name_= name\n",
    "        self.average_= average\n",
    "        self.cc_= cc\n",
    "    def data(self):\n",
    "        print(\"name-\",self.name_,\"average-\",self.average_,\"cc-\",self.cc_)\n",
    "        \n",
    "    def work(self):\n",
    "        print(\"my car\",self.name_,\"average is\",self.average_,\"and his cc is\",self.cc_)\n",
    "      "
   ]
  },
  {
   "cell_type": "code",
   "execution_count": 7,
   "id": "9eb9fd2c",
   "metadata": {},
   "outputs": [],
   "source": [
    "x = cars(\"BMW\",12,1000)"
   ]
  },
  {
   "cell_type": "code",
   "execution_count": 9,
   "id": "cf2e8927",
   "metadata": {},
   "outputs": [
    {
     "name": "stdout",
     "output_type": "stream",
     "text": [
      "NAME - BMW\n",
      "Average - 12\n",
      "Cc - 1000\n",
      "Amount - 1cr\n",
      "Automatic - automatic\n"
     ]
    },
    {
     "ename": "AttributeError",
     "evalue": "type object 'cars' has no attribute 'name_'",
     "output_type": "error",
     "traceback": [
      "\u001b[1;31m---------------------------------------------------------------------------\u001b[0m",
      "\u001b[1;31mAttributeError\u001b[0m                            Traceback (most recent call last)",
      "Cell \u001b[1;32mIn[9], line 8\u001b[0m\n\u001b[0;32m      6\u001b[0m x\u001b[38;5;241m.\u001b[39mfeature \u001b[38;5;241m=\u001b[39m \u001b[38;5;124m\"\u001b[39m\u001b[38;5;124mautomatic\u001b[39m\u001b[38;5;124m\"\u001b[39m\n\u001b[0;32m      7\u001b[0m \u001b[38;5;28mprint\u001b[39m(\u001b[38;5;124m\"\u001b[39m\u001b[38;5;124mAutomatic -\u001b[39m\u001b[38;5;124m\"\u001b[39m,x\u001b[38;5;241m.\u001b[39mfeature)\n\u001b[1;32m----> 8\u001b[0m \u001b[43mcars\u001b[49m\u001b[38;5;241;43m.\u001b[39;49m\u001b[43mname_\u001b[49m\n\u001b[0;32m     12\u001b[0m x\u001b[38;5;241m.\u001b[39mdata()\n\u001b[0;32m     13\u001b[0m x\u001b[38;5;241m.\u001b[39mwork()\n",
      "\u001b[1;31mAttributeError\u001b[0m: type object 'cars' has no attribute 'name_'"
     ]
    }
   ],
   "source": [
    "print(\"NAME -\",x.name_)\n",
    "print(\"Average -\",x.average_)\n",
    "print(\"Cc -\",x.cc_)\n",
    "x.amount = \"1cr\"\n",
    "print(\"Amount -\",x.amount)\n",
    "x.feature = \"automatic\"\n",
    "print(\"Automatic -\",x.feature)\n",
    "\n",
    "\n",
    "\n",
    "\n",
    "x.data()\n",
    "x.work()"
   ]
  },
  {
   "cell_type": "code",
   "execution_count": 4,
   "id": "f81c39e0",
   "metadata": {},
   "outputs": [
    {
     "name": "stdout",
     "output_type": "stream",
     "text": [
      "name- BMW average- 12 cc- 1000\n",
      "my car BMW average is 12 and his cc is 1000\n"
     ]
    }
   ],
   "source": [
    "x.data()\n",
    "x.work()"
   ]
  },
  {
   "cell_type": "code",
   "execution_count": null,
   "id": "04f81000",
   "metadata": {},
   "outputs": [],
   "source": []
  },
  {
   "cell_type": "markdown",
   "id": "07461e7f",
   "metadata": {},
   "source": [
    "# Class Attributes\n",
    "\n",
    "- Instence variables\n",
    "- class variables"
   ]
  },
  {
   "cell_type": "code",
   "execution_count": null,
   "id": "2eed303b",
   "metadata": {},
   "outputs": [],
   "source": [
    "# instence variabvles - Attached to an instance(object) of a class.\n",
    "#                     - Defined inside any method but generally inside the __init__() method.\n",
    "#                     - Every object will have its own copy.\n",
    "\n",
    "# Class variables - Attached to the class\n",
    "#                 - Decleard inside the class but outside of any method.\n",
    "#                 - Every object will have share the same class variables."
   ]
  },
  {
   "cell_type": "code",
   "execution_count": 1,
   "id": "b2228dec",
   "metadata": {},
   "outputs": [],
   "source": [
    "class student:\n",
    "    # calss variables\n",
    "    school_name = \"ABC school\"\n",
    "    \n",
    "    \n",
    "    def __init__(self, name , age ):      \n",
    "        # instsnce variableds\n",
    "        self.name = name         # name is local variable,\n",
    "        self.age  = age\n",
    "        \n",
    "s1 = student(\"Jack\",12) \n"
   ]
  },
  {
   "cell_type": "code",
   "execution_count": 6,
   "id": "2b09ba1a",
   "metadata": {},
   "outputs": [
    {
     "name": "stdout",
     "output_type": "stream",
     "text": [
      "student :- Name -  Jack  ;  Age -  12\n"
     ]
    }
   ],
   "source": [
    "# access instance variables\n",
    "\n",
    "print(\"student :-\",  \"Name - \",s1.name,\" ; \",\"Age - \",s1.age)\n"
   ]
  },
  {
   "cell_type": "code",
   "execution_count": 7,
   "id": "b0fe31fe",
   "metadata": {},
   "outputs": [
    {
     "name": "stdout",
     "output_type": "stream",
     "text": [
      "school name :- ABC school\n"
     ]
    }
   ],
   "source": [
    "# acess class variables\n",
    "\n",
    "print(\"school name :-\",student.school_name)"
   ]
  },
  {
   "cell_type": "code",
   "execution_count": 64,
   "id": "c67ce8ec",
   "metadata": {},
   "outputs": [
    {
     "data": {
      "text/plain": [
       "'ABC school'"
      ]
     },
     "execution_count": 64,
     "metadata": {},
     "output_type": "execute_result"
    }
   ],
   "source": [
    "s1.school_name              # class variable can access to any mathod inside the class"
   ]
  },
  {
   "cell_type": "code",
   "execution_count": 8,
   "id": "4133d440",
   "metadata": {},
   "outputs": [
    {
     "data": {
      "text/plain": [
       "(12, 'Jack')"
      ]
     },
     "execution_count": 8,
     "metadata": {},
     "output_type": "execute_result"
    }
   ],
   "source": [
    "s1.age,s1.name"
   ]
  },
  {
   "cell_type": "code",
   "execution_count": 9,
   "id": "213d3aa0",
   "metadata": {},
   "outputs": [
    {
     "name": "stdout",
     "output_type": "stream",
     "text": [
      "Student: Tom 14\n"
     ]
    }
   ],
   "source": [
    "# Modifie instance variable\n",
    "\n",
    "s1.name = \"Tom\"\n",
    "s1.age = 14\n",
    "print(\"Student:\",s1.name,s1.age)"
   ]
  },
  {
   "cell_type": "code",
   "execution_count": 10,
   "id": "6a09edd2",
   "metadata": {},
   "outputs": [
    {
     "name": "stdout",
     "output_type": "stream",
     "text": [
      "ABC school\n"
     ]
    }
   ],
   "source": [
    "student.school_name = \"ABC school\"\n",
    "print(student.school_name)"
   ]
  },
  {
   "cell_type": "code",
   "execution_count": 11,
   "id": "fb9ac990",
   "metadata": {},
   "outputs": [
    {
     "name": "stdout",
     "output_type": "stream",
     "text": [
      "Student : XYZ School\n"
     ]
    }
   ],
   "source": [
    "# Modifie class variable\n",
    "\n",
    "student.school_name = \"XYZ School\"\n",
    "print(\"Student :\",student.school_name)"
   ]
  },
  {
   "cell_type": "code",
   "execution_count": 22,
   "id": "7e9e552f",
   "metadata": {},
   "outputs": [],
   "source": [
    "class student:\n",
    "    # calss variables\n",
    "    school_name = \"ABC school\"\n",
    "    \n",
    "    \n",
    "    def __init__(self, name , age ):      \n",
    "        # instsnce variableds\n",
    "        self.name = name         # name is local variable,\n",
    "        self.age  = age\n",
    "        \n",
    "s1 = student(\"Jack\",12) \n"
   ]
  },
  {
   "cell_type": "code",
   "execution_count": 23,
   "id": "e2c92605",
   "metadata": {},
   "outputs": [
    {
     "name": "stdout",
     "output_type": "stream",
     "text": [
      "XYZ School\n",
      "QWE School\n",
      "ABC school\n"
     ]
    }
   ],
   "source": [
    "#Expreiments\n",
    "s1.name = \"Tom\"\n",
    "s1.age = 12\n",
    "s2 = student(\"Jack\",13)         # s1,s2,s3 is instance object\n",
    "s2.school_name = \"XYZ School\"   # created school_name is instance variable for s2\n",
    "s3 = student(\"ram\",14)\n",
    "s3.school_name = \"QWE School\"   # created school_name is instance variable for s3\n",
    "\n",
    "print(s2.school_name)          # but the class variable 'school variable' is not changing\n",
    "print(s3.school_name)\n",
    "print(student.school_name)    "
   ]
  },
  {
   "cell_type": "code",
   "execution_count": 31,
   "id": "9e982d59",
   "metadata": {},
   "outputs": [
    {
     "data": {
      "text/plain": [
       "'ABC school'"
      ]
     },
     "execution_count": 31,
     "metadata": {},
     "output_type": "execute_result"
    }
   ],
   "source": [
    "s1.school_name"
   ]
  },
  {
   "cell_type": "code",
   "execution_count": 32,
   "id": "00e57c8c",
   "metadata": {},
   "outputs": [
    {
     "name": "stdout",
     "output_type": "stream",
     "text": [
      "data science\n",
      "data science\n",
      "data science\n",
      "data science\n"
     ]
    }
   ],
   "source": [
    "student.profession = \"data science\"\n",
    "s1.profession \n",
    "print(s1.profession )\n",
    "print(s2.profession )\n",
    "print(s3.profession )\n",
    "print(student.profession)"
   ]
  },
  {
   "cell_type": "code",
   "execution_count": 35,
   "id": "6a171dc2",
   "metadata": {},
   "outputs": [
    {
     "name": "stdout",
     "output_type": "stream",
     "text": [
      "ABC school\n",
      "XYZ School\n",
      "QWE School\n",
      "12\n",
      "13\n",
      "14\n"
     ]
    }
   ],
   "source": [
    "print(s1.school_name)\n",
    "print(s2.school_name)\n",
    "print(s3.school_name)\n",
    "print(s1.age)\n",
    "print(s2.age)\n",
    "print(s3.age)\n"
   ]
  },
  {
   "cell_type": "code",
   "execution_count": 61,
   "id": "023b4ef8",
   "metadata": {},
   "outputs": [],
   "source": [
    "class game:\n",
    "    team_name = \"india circket team\"\n",
    "  \n",
    "    def __init__(obj,name,run,six,four):\n",
    "        obj.name = name\n",
    "        obj.run  = run\n",
    "        obj.six  = six\n",
    "        obj.four = four\n",
    "        \n",
    "    def report(game):\n",
    "        print(\"player\",game.name,\"has made\",game.run,\"runs with the help of\",game.six,\"sixes and\",game.four,\"fours\")\n",
    "        \n",
    "        \n",
    "        \n",
    "x1 = game(\"virat\",110,5,8)\n",
    "x2 = game(\"rohit\",101,8,5)\n",
    "x3 = game(\"rahul\",55,2,4)\n"
   ]
  },
  {
   "cell_type": "code",
   "execution_count": 64,
   "id": "147569b7",
   "metadata": {},
   "outputs": [
    {
     "name": "stdout",
     "output_type": "stream",
     "text": [
      "Pakistan circket team\n",
      "player name:- virat runs:- 110 sixes:- 5 fours:- 8\n",
      "player name:- rohit runs:- 101 sixes:- 8 fours:- 5\n",
      "player name:- rahul runs:- 55 sixes:- 2 fours:- 4\n",
      "Pakistan circket team\n",
      "player name:- ali runs:- 77 sixes:- 2 fours:- 5\n",
      "player name:- irfan runs:- 55 sixes:- 3 fours:- 6\n",
      "player name:- razak runs:- 88 sixes:- 4 fours:- 7\n",
      "player virat has made 110 runs with the help of 5 sixes and 8 fours\n",
      "player rohit has made 101 runs with the help of 8 sixes and 5 fours\n",
      "player rahul has made 55 runs with the help of 2 sixes and 4 fours\n",
      "player ali has made 77 runs with the help of 2 sixes and 5 fours\n",
      "player irfan has made 55 runs with the help of 3 sixes and 6 fours\n",
      "player razak has made 88 runs with the help of 4 sixes and 7 fours\n"
     ]
    }
   ],
   "source": [
    "print(x1.team_name)\n",
    "print(\"player name:-\",x1.name,\"runs:-\",x1.run,\"sixes:-\",x1.six,\"fours:-\",x1.four)\n",
    "print(\"player name:-\",x2.name,\"runs:-\",x2.run,\"sixes:-\",x2.six,\"fours:-\",x2.four)\n",
    "print(\"player name:-\",x3.name,\"runs:-\",x3.run,\"sixes:-\",x3.six,\"fours:-\",x3.four)\n",
    "\n",
    "# made 2nd class variable \n",
    "game.team_name = (\"Pakistan circket team\")\n",
    "print(game.team_name)\n",
    "x4 = game(\"ali\",77,2,5)\n",
    "x5 = game(\"irfan\",55,3,6)\n",
    "x6 = game(\"razak\",88,4,7)\n",
    "print(\"player name:-\",x4.name,\"runs:-\",x4.run,\"sixes:-\",x4.six,\"fours:-\",x4.four)\n",
    "print(\"player name:-\",x5.name,\"runs:-\",x5.run,\"sixes:-\",x5.six,\"fours:-\",x5.four)\n",
    "print(\"player name:-\",x6.name,\"runs:-\",x6.run,\"sixes:-\",x6.six,\"fours:-\",x6.four)\n",
    "\n",
    "\n",
    "x1.report()\n",
    "x2.report()\n",
    "x3.report()\n",
    "\n",
    "x4.report()\n",
    "x5.report()\n",
    "x6.report()\n",
    "\n",
    "\n",
    "\n",
    "\n"
   ]
  },
  {
   "cell_type": "markdown",
   "id": "a15ea3e6",
   "metadata": {},
   "source": [
    "# Deleting object attributes"
   ]
  },
  {
   "cell_type": "code",
   "execution_count": 24,
   "id": "a934d26a",
   "metadata": {},
   "outputs": [],
   "source": [
    "del s2.school_name\n"
   ]
  },
  {
   "cell_type": "code",
   "execution_count": 25,
   "id": "0814fd44",
   "metadata": {},
   "outputs": [
    {
     "data": {
      "text/plain": [
       "'ABC school'"
      ]
     },
     "execution_count": 25,
     "metadata": {},
     "output_type": "execute_result"
    }
   ],
   "source": [
    "s2.school_name"
   ]
  },
  {
   "cell_type": "markdown",
   "id": "37cae299",
   "metadata": {},
   "source": [
    "# Deleting an object"
   ]
  },
  {
   "cell_type": "code",
   "execution_count": 26,
   "id": "abc61345",
   "metadata": {},
   "outputs": [],
   "source": [
    "del s2"
   ]
  },
  {
   "cell_type": "code",
   "execution_count": 27,
   "id": "1f0fc8e3",
   "metadata": {},
   "outputs": [
    {
     "ename": "NameError",
     "evalue": "name 's2' is not defined",
     "output_type": "error",
     "traceback": [
      "\u001b[1;31m---------------------------------------------------------------------------\u001b[0m",
      "\u001b[1;31mNameError\u001b[0m                                 Traceback (most recent call last)",
      "Cell \u001b[1;32mIn[27], line 1\u001b[0m\n\u001b[1;32m----> 1\u001b[0m \u001b[43ms2\u001b[49m\u001b[38;5;241m.\u001b[39mschool_name\n",
      "\u001b[1;31mNameError\u001b[0m: name 's2' is not defined"
     ]
    }
   ],
   "source": [
    "s2.school_name"
   ]
  }
 ],
 "metadata": {
  "kernelspec": {
   "display_name": "Python 3 (ipykernel)",
   "language": "python",
   "name": "python3"
  },
  "language_info": {
   "codemirror_mode": {
    "name": "ipython",
    "version": 3
   },
   "file_extension": ".py",
   "mimetype": "text/x-python",
   "name": "python",
   "nbconvert_exporter": "python",
   "pygments_lexer": "ipython3",
   "version": "3.10.9"
  }
 },
 "nbformat": 4,
 "nbformat_minor": 5
}
